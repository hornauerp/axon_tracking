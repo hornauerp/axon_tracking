{
 "cells": [
  {
   "cell_type": "code",
   "execution_count": null,
   "metadata": {},
   "outputs": [],
   "source": [
    "%load_ext autoreload\n",
    "%autoreload 2\n",
    "%matplotlib inline"
   ]
  },
  {
   "cell_type": "code",
   "execution_count": null,
   "metadata": {},
   "outputs": [],
   "source": [
    "import os, sys\n",
    "import spikeinterface.full as si\n",
    "import h5py\n",
    "import numpy as np\n",
    "from tqdm import tqdm\n",
    "from glob import glob\n",
    "sys.path.append(\"/home/phornauer/Git/axon_tracking/\")\n",
    "from axon_tracking import spike_sorting as ss\n",
    "from axon_tracking import template_extraction as te\n",
    "from axon_tracking import utils as ut\n",
    "import matplotlib.pyplot as plt"
   ]
  },
  {
   "cell_type": "code",
   "execution_count": null,
   "metadata": {},
   "outputs": [],
   "source": [
    "te_params = dict()\n",
    "te_params['n_jobs'] = 16 #Number of cores to use for waveform extraction\n",
    "te_params['filter_band'] = 150 #Either float for the highpass filter frequency or list for the bandpass filter frequencies\n",
    "te_params['overwrite'] = False #Flag if templates should be recalculated if already existing\n",
    "te_params['max_spikes_per_unit'] = 1000 #Maximum number of spikes to be used for template extraction\n",
    "\n",
    "qc_params = dict()\n",
    "qc_params['min_n_spikes'] = 1500 #Minimum number of spikes to be detected for a unit for template extraction to take place\n",
    "qc_params['exclude_mua'] = True #Exclude units that were labelled multi unit activity by kilosort\n",
    "qc_params['use_bc'] = False #Use bombcell for QC"
   ]
  },
  {
   "cell_type": "code",
   "execution_count": null,
   "metadata": {},
   "outputs": [],
   "source": [
    "sorting_list = ['/net/bs-filesvr02/export/group/hierlemann/intermediate_data/Maxtwo/phornauer/Torsten_2/241010/T002523/AxonTracking/well001/sorter_output']"
   ]
  },
  {
   "cell_type": "code",
   "execution_count": null,
   "metadata": {},
   "outputs": [],
   "source": [
    "te.extract_templates_from_sorting_list(sorting_list, qc_params=qc_params, te_params=te_params)"
   ]
  },
  {
   "cell_type": "code",
   "execution_count": null,
   "metadata": {},
   "outputs": [],
   "source": [
    "test = np.load(\n",
    "    '/net/bs-filesvr02/export/group/hierlemann/intermediate_data/Maxtwo/phornauer/Torsten_2/241010/T002523/AxonTracking/well000/sorter_output/templates/18.npy')"
   ]
  },
  {
   "cell_type": "code",
   "execution_count": null,
   "metadata": {},
   "outputs": [],
   "source": [
    "plt.imshow(np.min(test, axis=2).T, aspect='auto')"
   ]
  },
  {
   "cell_type": "code",
   "execution_count": null,
   "metadata": {},
   "outputs": [],
   "source": [
    "merge_unit_groups = si.get_potential_auto_merge(\n",
    "    full_analyzer,\n",
    "     resolve_graph=True\n",
    "     )\n",
    "analyzer_merged = full_analyzer.merge_units(merge_unit_groups=merge_unit_groups)"
   ]
  },
  {
   "cell_type": "code",
   "execution_count": null,
   "metadata": {},
   "outputs": [],
   "source": [
    "segment_sorting._annotations['phy_folder']"
   ]
  },
  {
   "cell_type": "code",
   "execution_count": null,
   "metadata": {},
   "outputs": [],
   "source": [
    "for sorting_path in tqdm(sorting_list):\n",
    "    output_path = os.path.join(sorting_path, \"sorter_output\")\n",
    "    sorting = si.KiloSortSortingExtractor(output_path)\n",
    "    json_path = os.path.join(sorting_path, \"spikeinterface_recording.json\")\n",
    "    multirecording = si.load_extractor(json_path, base_folder=True)"
   ]
  },
  {
   "cell_type": "code",
   "execution_count": null,
   "metadata": {},
   "outputs": [],
   "source": [
    "rec_path = ss.get_recording_path(multirecording)\n",
    "stream_id = [p for p in sorting_path.split(\"/\") \n",
    "             if p.startswith(\"well\")][0]  # Find out which well this belongs to\n",
    "\n",
    "rec_names, common_el, pos = ss.find_common_electrodes(rec_path, stream_id)\n",
    "cleaned_sorting = te.select_good_units(sorting, **qc_params)\n",
    "cleaned_sorting = si.remove_excess_spikes(\n",
    "    cleaned_sorting, multirecording\n",
    ")  # Relevant if last spike time == recording_length\n",
    "cleaned_sorting.register_recording(multirecording)\n",
    "segment_sorting = si.SplitSegmentSorting(cleaned_sorting, multirecording)"
   ]
  },
  {
   "cell_type": "code",
   "execution_count": null,
   "metadata": {},
   "outputs": [],
   "source": [
    "stream_id = [p for p in output_path.split(\"/\") \n",
    "             if p.startswith(\"well\")][0]  # Find out which well this belongs to"
   ]
  },
  {
   "cell_type": "code",
   "execution_count": null,
   "metadata": {},
   "outputs": [],
   "source": [
    "full_path = ss.get_recording_path(segment_sorting)\n",
    "cutout_samples, cutout_ms = te.get_assay_information(full_path)\n",
    "overwrite_wf = te_params[\"overwrite_wf\"]\n",
    "cutout = cutout_ms\n",
    "n_jobs = te_params[\"n_jobs\"]"
   ]
  },
  {
   "cell_type": "code",
   "execution_count": null,
   "metadata": {},
   "outputs": [],
   "source": [
    "si.set_global_job_kwargs(n_jobs=n_jobs, progress_bar=False)\n",
    "full_analyzer = si.create_sorting_analyzer(\n",
    "        sorting=cleaned_sorting,\n",
    "        recording=multirecording\n",
    ")"
   ]
  },
  {
   "cell_type": "code",
   "execution_count": null,
   "metadata": {},
   "outputs": [],
   "source": [
    "full_analyzer.compute([\"random_spikes\",\n",
    "                      \"waveforms\",\n",
    "                      \"templates\",\n",
    "                      \"spike_amplitudes\",\n",
    "                      \"unit_locations\",\n",
    "                      \"template_similarity\",\n",
    "                      \"correlograms\"],\n",
    "                      extension_params={\n",
    "                          \"random_spikes\":{\"max_spikes_per_unit\":900},\n",
    "                          \"waveforms\":{\"ms_before\":cutout[0], \"ms_after\":cutout[1]}\n",
    "                          }\n",
    "                      )"
   ]
  },
  {
   "cell_type": "code",
   "execution_count": null,
   "metadata": {},
   "outputs": [],
   "source": [
    "merge_unit_groups = si.get_potential_auto_merge(\n",
    "    full_analyzer,\n",
    "    resolve_graph=True\n",
    "    )\n",
    "analyzer_merged = full_analyzer.merge_units(merge_unit_groups=merge_unit_groups)"
   ]
  },
  {
   "cell_type": "code",
   "execution_count": null,
   "metadata": {},
   "outputs": [],
   "source": [
    "removed_sorting = si.remove_redundant_units(\n",
    "    analyzer_merged,\n",
    "    duplicate_threshold=0.8,\n",
    "    remove_strategy=\"minimum_shift\"\n",
    ")"
   ]
  },
  {
   "cell_type": "code",
   "execution_count": null,
   "metadata": {},
   "outputs": [],
   "source": [
    "analyzer_merged.compute(\"noise_levels\")\n",
    "metrics = si.compute_quality_metrics(analyzer_merged, n_jobs=n_jobs)"
   ]
  },
  {
   "cell_type": "code",
   "execution_count": null,
   "metadata": {},
   "outputs": [],
   "source": [
    "metrics.shape"
   ]
  },
  {
   "cell_type": "code",
   "execution_count": null,
   "metadata": {},
   "outputs": [],
   "source": [
    "output_path = '/net/bs-filesvr02/export/group/hierlemann/intermediate_data/Maxtwo/phornauer/AxonScan/Test'"
   ]
  },
  {
   "cell_type": "code",
   "execution_count": null,
   "metadata": {},
   "outputs": [],
   "source": [
    "sel_unit_ids = removed_sorting.get_unit_ids()\n",
    "template_save_path = os.path.join(output_path, \"templates\")\n",
    "if not os.path.exists(template_save_path):\n",
    "    os.makedirs(template_save_path)"
   ]
  },
  {
   "cell_type": "code",
   "execution_count": null,
   "metadata": {},
   "outputs": [],
   "source": [
    "h5 = h5py.File(full_path)\n",
    "rec_names = list(h5[\"wells\"][stream_id].keys())"
   ]
  },
  {
   "cell_type": "code",
   "execution_count": null,
   "metadata": {},
   "outputs": [],
   "source": [
    "plt.scatter(metrics[\"firing_rate\"],metrics[\"rp_contamination\"])\n",
    "plt.show()"
   ]
  },
  {
   "cell_type": "code",
   "execution_count": null,
   "metadata": {},
   "outputs": [],
   "source": [
    "h5 = h5py.File(full_path)\n",
    "rec_names = list(h5[\"wells\"][stream_id].keys())\n",
    "n_units = cleaned_sorting.get_num_units()\n",
    "template_matrix = np.full([n_units, sum(cutout_samples), 26400], np.nan)\n",
    "\n",
    "for sel_idx, rec_name in enumerate(rec_names):\n",
    "    rec = si.MaxwellRecordingExtractor(\n",
    "            full_path, stream_id=stream_id, rec_name=rec_name\n",
    "        )\n",
    "    \n",
    "    rec_centered = si.highpass_filter(rec, freq_min=150)\n",
    "    \n",
    "    seg_sort = si.SelectSegmentSorting(segment_sorting, sel_idx)\n",
    "    seg_sort = si.remove_excess_spikes(seg_sort, rec_centered)\n",
    "    seg_sort.register_recording(rec_centered)   \n",
    "    \n",
    "    analyzer = si.create_sorting_analyzer(\n",
    "        sorting=seg_sort,\n",
    "        recording=rec_centered,\n",
    "        sparse=False,\n",
    "        overwrite=overwrite_wf\n",
    "        )\n",
    "\n",
    "    analyzer.compute(\"random_spikes\",n_jobs=n_jobs,max_spikes_per_unit=900)\n",
    "    analyzer.compute(\"waveforms\",ms_before=cutout[0], ms_after=cutout[1],n_jobs=n_jobs)\n",
    "    analyzer.compute(\"templates\",n_jobs=n_jobs)\n",
    "    tmp = analyzer.get_extension(\n",
    "        extension_name=\"templates\"\n",
    "    )\n",
    "    tmp_data = tmp.get_data()\n",
    "    \n",
    "    els = rec.get_property(\"contact_vector\")[\"electrode\"]\n",
    "    template_matrix[:, :, els] = tmp_data    \n"
   ]
  },
  {
   "cell_type": "code",
   "execution_count": null,
   "metadata": {},
   "outputs": [],
   "source": [
    "rec.get_property(\"contact_vector\")[\"device_channel_indices\"].shape"
   ]
  },
  {
   "cell_type": "code",
   "execution_count": null,
   "metadata": {},
   "outputs": [],
   "source": [
    "plt.plot(np.squeeze(template_matrix[0, :, :]))\n",
    "plt.show()"
   ]
  },
  {
   "cell_type": "code",
   "execution_count": null,
   "metadata": {},
   "outputs": [],
   "source": [
    "metrics.iloc[1]"
   ]
  },
  {
   "cell_type": "code",
   "execution_count": null,
   "metadata": {},
   "outputs": [],
   "source": [
    "grid = te.convert_to_grid(template_matrix[1,:,:], pos)\n",
    "fig, ax = plt.subplots()\n",
    "ax.imshow(np.max(np.abs(grid),axis=2).T,vmax=20)"
   ]
  },
  {
   "cell_type": "code",
   "execution_count": null,
   "metadata": {},
   "outputs": [],
   "source": [
    "noise_tmp = np.squeeze(template_matrix[1,:,:])"
   ]
  },
  {
   "cell_type": "code",
   "execution_count": null,
   "metadata": {},
   "outputs": [],
   "source": [
    "th = -5\n",
    "tmp_th = noise_tmp<th\n",
    "grid_th = te.convert_to_grid(tmp_th, pos)"
   ]
  },
  {
   "cell_type": "code",
   "execution_count": null,
   "metadata": {},
   "outputs": [],
   "source": [
    "plt.imshow(grid_th.max(axis=2).T)"
   ]
  },
  {
   "cell_type": "code",
   "execution_count": null,
   "metadata": {},
   "outputs": [],
   "source": [
    "np.diff(np.nonzero(np.max(tmp_th,axis=0)))"
   ]
  },
  {
   "cell_type": "code",
   "execution_count": null,
   "metadata": {},
   "outputs": [],
   "source": [
    "import h5py as h5"
   ]
  },
  {
   "cell_type": "code",
   "execution_count": null,
   "metadata": {},
   "outputs": [],
   "source": [
    "mxw = h5.File(full_path)"
   ]
  },
  {
   "cell_type": "code",
   "execution_count": null,
   "metadata": {},
   "outputs": [],
   "source": [
    "mxw.keys()"
   ]
  },
  {
   "cell_type": "code",
   "execution_count": null,
   "metadata": {},
   "outputs": [],
   "source": [
    "mxw['recordings']['rec0000']['well005'].keys()"
   ]
  },
  {
   "cell_type": "code",
   "execution_count": null,
   "metadata": {},
   "outputs": [],
   "source": [
    "mxw['recordings']['rec0000']['well005']['spikes'][0][0]"
   ]
  },
  {
   "cell_type": "code",
   "execution_count": null,
   "metadata": {},
   "outputs": [],
   "source": [
    "fnos = mxw['recordings']['rec0000']['well005']['groups']['routed']['frame_nos']"
   ]
  },
  {
   "cell_type": "code",
   "execution_count": null,
   "metadata": {},
   "outputs": [],
   "source": [
    "fnos[-1] - fnos[0]"
   ]
  },
  {
   "cell_type": "code",
   "execution_count": null,
   "metadata": {},
   "outputs": [],
   "source": [
    "fnos[:10]"
   ]
  },
  {
   "cell_type": "code",
   "execution_count": null,
   "metadata": {},
   "outputs": [],
   "source": [
    "fdiff = np.diff(fnos)\n",
    "np.unique(fdiff).min()"
   ]
  },
  {
   "cell_type": "code",
   "execution_count": null,
   "metadata": {},
   "outputs": [],
   "source": [
    "mxw['recordings']['rec0000']['well006']['groups']['routed'].keys()"
   ]
  },
  {
   "cell_type": "code",
   "execution_count": null,
   "metadata": {},
   "outputs": [],
   "source": [
    "mxw['recordings']['rec0000']['well006']['groups']['routed']['raw']"
   ]
  },
  {
   "cell_type": "code",
   "execution_count": null,
   "metadata": {},
   "outputs": [],
   "source": [
    "mxw['recordings']['rec0000']['well006']['events']"
   ]
  },
  {
   "cell_type": "code",
   "execution_count": null,
   "metadata": {},
   "outputs": [],
   "source": [
    "mxw['assay']['script_id'].keys()"
   ]
  },
  {
   "cell_type": "code",
   "execution_count": null,
   "metadata": {},
   "outputs": [],
   "source": [
    "mxw['assay']['inputs']['electrodes'][0]"
   ]
  }
 ],
 "metadata": {
  "kernelspec": {
   "display_name": "si101",
   "language": "python",
   "name": "python3"
  },
  "language_info": {
   "codemirror_mode": {
    "name": "ipython",
    "version": 3
   },
   "file_extension": ".py",
   "mimetype": "text/x-python",
   "name": "python",
   "nbconvert_exporter": "python",
   "pygments_lexer": "ipython3",
   "version": "3.12.7"
  }
 },
 "nbformat": 4,
 "nbformat_minor": 2
}
