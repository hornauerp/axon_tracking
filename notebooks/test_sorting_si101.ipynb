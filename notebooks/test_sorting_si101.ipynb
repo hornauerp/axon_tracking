{
 "cells": [
  {
   "cell_type": "code",
   "execution_count": null,
   "metadata": {},
   "outputs": [],
   "source": [
    "%load_ext autoreload\n",
    "%autoreload 2\n",
    "%matplotlib inline"
   ]
  },
  {
   "cell_type": "code",
   "execution_count": null,
   "metadata": {},
   "outputs": [],
   "source": [
    "import os, sys\n",
    "import spikeinterface.full as si\n",
    "import h5py\n",
    "import numpy as np\n",
    "from tqdm import tqdm\n",
    "from glob import glob\n",
    "sys.path.append(\"/home/phornauer/Git/axon_tracking/\")\n",
    "from axon_tracking import spike_sorting as ss\n",
    "from axon_tracking import template_extraction as te\n",
    "from axon_tracking import utils as ut\n",
    "import matplotlib.pyplot as plt"
   ]
  },
  {
   "cell_type": "code",
   "execution_count": null,
   "metadata": {},
   "outputs": [],
   "source": [
    "te_params = dict()\n",
    "te_params['n_jobs'] = 16 #Number of cores to use for waveform extraction\n",
    "te_params['filter_band'] = 150 #Either float for the highpass filter frequency or list for the bandpass filter frequencies\n",
    "te_params['overwrite'] = False #Flag if templates should be recalculated if already existing\n",
    "te_params['max_spikes_per_unit'] = 1000 #Maximum number of spikes to be used for template extraction\n",
    "\n",
    "qc_params = dict()\n",
    "qc_params['min_n_spikes'] = 1500 #Minimum number of spikes to be detected for a unit for template extraction to take place\n",
    "qc_params['exclude_mua'] = True #Exclude units that were labelled multi unit activity by kilosort\n",
    "qc_params['use_bc'] = False #Use bombcell for QC\n",
    "qc_params['use_si'] = True #Use spikeinterface for QC\n",
    "qc_params[\"auto_merge\"] = True #Automatically merge units (spikeinterface implementation)\n",
    "qc_params[\"remove_redundant\"] = True #Remove redundant units (spikeinterface implementation)"
   ]
  },
  {
   "cell_type": "code",
   "execution_count": null,
   "metadata": {},
   "outputs": [],
   "source": [
    "sorting_list = ['/net/bs-filesvr02/export/group/hierlemann/intermediate_data/Mea1k/phornauer/Slices/230711/Rec5/well000/sorter_output']"
   ]
  },
  {
   "cell_type": "code",
   "execution_count": null,
   "metadata": {},
   "outputs": [],
   "source": [
    "te.extract_templates_from_sorting_list(sorting_list, qc_params=qc_params, te_params=te_params)"
   ]
  },
  {
   "cell_type": "code",
   "execution_count": null,
   "metadata": {},
   "outputs": [],
   "source": [
    "sorting = si.KiloSortSortingExtractor(sorting_list[0])"
   ]
  },
  {
   "cell_type": "code",
   "execution_count": null,
   "metadata": {},
   "outputs": [],
   "source": [
    "rec_path = ss.get_recording_path(sorting)"
   ]
  },
  {
   "cell_type": "code",
   "execution_count": null,
   "metadata": {},
   "outputs": [],
   "source": [
    "from axon_tracking import visualization as vis #Separate as it is not needed for the template extraction"
   ]
  },
  {
   "cell_type": "code",
   "execution_count": null,
   "metadata": {},
   "outputs": [],
   "source": [
    "root_path = sorting_path\n",
    "plot_path = os.path.join(root_path, 'templates')\n",
    "\n",
    "vis.plot_template_overview(plot_path,vmax=5,overwrite=True)"
   ]
  },
  {
   "cell_type": "code",
   "execution_count": null,
   "metadata": {},
   "outputs": [],
   "source": [
    "test = np.load(\n",
    "    '/net/bs-filesvr02/export/group/hierlemann/intermediate_data/Mea1k/phornauer/Slices/230711/Rec5/well000/sorter_output/templates/653.npy')"
   ]
  },
  {
   "cell_type": "markdown",
   "metadata": {},
   "source": [
    "Try to reconstruct network activity from frame numbers of axon scan"
   ]
  },
  {
   "cell_type": "code",
   "execution_count": null,
   "metadata": {},
   "outputs": [],
   "source": [
    "mxw = h5py.File(full_path)\n",
    "fnos = mxw['recordings']['rec0000']['well005']['groups']['routed']['frame_nos']"
   ]
  },
  {
   "cell_type": "code",
   "execution_count": null,
   "metadata": {},
   "outputs": [],
   "source": []
  }
 ],
 "metadata": {
  "kernelspec": {
   "display_name": "si101",
   "language": "python",
   "name": "python3"
  },
  "language_info": {
   "codemirror_mode": {
    "name": "ipython",
    "version": 3
   },
   "file_extension": ".py",
   "mimetype": "text/x-python",
   "name": "python",
   "nbconvert_exporter": "python",
   "pygments_lexer": "ipython3",
   "version": "3.12.7"
  }
 },
 "nbformat": 4,
 "nbformat_minor": 2
}
