{
 "cells": [
  {
   "cell_type": "code",
   "execution_count": null,
   "id": "22736f33-9ccb-4b6d-882e-164b00c84ea2",
   "metadata": {},
   "outputs": [],
   "source": [
    "%load_ext autoreload\n",
    "%autoreload 2    "
   ]
  },
  {
   "cell_type": "code",
   "execution_count": null,
   "id": "1463e8fb-b52e-4526-acb3-b4ba27b2613c",
   "metadata": {},
   "outputs": [],
   "source": [
    "import os, time, shutil, sys\n",
    "from pathlib import Path\n",
    "from glob import glob\n",
    "from pprint import pprint\n",
    "import numpy as np\n",
    "import spikeinterface.full as si\n",
    "import matplotlib.pyplot as plt\n",
    "import h5py\n",
    "\n",
    "sys.path.append(\"/home/phornauer/Git/axon_tracking/\")\n",
    "from axon_tracking import spike_sorting as ss\n",
    "import axon_tracking.template_extraction as te"
   ]
  },
  {
   "cell_type": "code",
   "execution_count": null,
   "id": "dab15bca-3262-4fb1-abb9-856e71d7efc3",
   "metadata": {},
   "outputs": [],
   "source": [
    "root_path = '/net/bs-filesvr02/export/group/hierlemann/intermediate_data/Maxtwo/phornauer/Chemogenetics_2/Week_3/concatenated/'\n",
    "for w in range(24):\n",
    "    try:\n",
    "        stream_id = 'well' + str(w).zfill(3)\n",
    "        te.extract_templates_from_concatenated_recording(root_path, stream_id)\n",
    "        print(stream_id)\n",
    "    except Exception as e:\n",
    "        print(e)\n",
    "        continue"
   ]
  },
  {
   "cell_type": "code",
   "execution_count": null,
   "id": "fb490264-a63e-498b-8848-d96973c80393",
   "metadata": {},
   "outputs": [],
   "source": [
    "sorter = 'kilosort2_5'\n",
    "si.Kilosort2_5Sorter.set_kilosort2_5_path('/home/phornauer/Git/Kilosort_2020b') #Change\n",
    "sorter_params = si.get_default_sorter_params(si.Kilosort2_5Sorter)\n",
    "sorter_params['n_jobs'] = -1\n",
    "sorter_params['detect_threshold'] = 6\n",
    "sorter_params['minFR'] = 0.01\n",
    "sorter_params['minfr_goodchannels'] = 0.01\n",
    "sorter_params['keep_good_only'] = False\n",
    "sorter_params['do_correction'] = False\n",
    "sorter_params['NT'] = 64*2*1024 + 64\n",
    "#pprint(sorter_params)"
   ]
  },
  {
   "cell_type": "code",
   "execution_count": null,
   "id": "ddf5b11c-4066-4a97-ba7d-8c8a0e465500",
   "metadata": {},
   "outputs": [],
   "source": [
    "axon_path = '/net/bs-filesvr02/export/group/hierlemann/recordings/Maxtwo/achernov/Tabea/DCZ_Row2/231214/T002443/AxonTracking/000068/data.raw.h5'\n",
    "nw_sorting_path = '/net/bs-filesvr02/export/group/hierlemann/intermediate_data/Maxtwo/phornauer/Chemogenetics_2/Week_3/'\n",
    "stream_ids = ss.get_stream_ids(axon_path)\n",
    "\n",
    "save_root = '/net/bs-filesvr02/export/group/hierlemann/intermediate_data/Maxtwo/phornauer/Chemogenetics_2/Week_3/concatenated/'"
   ]
  },
  {
   "cell_type": "code",
   "execution_count": null,
   "id": "f76645a4-ebf3-44b9-b202-91651c8ca6bc",
   "metadata": {},
   "outputs": [],
   "source": [
    "for stream_id in stream_ids:\n",
    "    well_recording_path = os.path.join(nw_sorting_path, stream_id, 'spikeinterface_recording.json')\n",
    "    if os.path.exists(well_recording_path):\n",
    "        concat_rec = si.load_extractor(well_recording_path, base_folder=True)\n",
    "        axon_rec, ax_el, pos = ss.concatenate_recording_slices(axon_path, stream_id)\n",
    "        sliced = ss.cut_concatenated_recording(concat_rec, cutout=600)\n",
    "        concatenated = ss.intersect_and_concatenate_recording_list([axon_rec, sliced])\n",
    "        \n",
    "        ss.clean_sorting(rec=concatenated, save_root=save_root, stream_id=stream_id, sorter=sorter, sorter_params=sorter_params)"
   ]
  },
  {
   "cell_type": "code",
   "execution_count": null,
   "id": "8100d30d-4c5f-4e44-b3df-a14bce5a1a21",
   "metadata": {},
   "outputs": [],
   "source": [
    "si.run_sorter("
   ]
  },
  {
   "cell_type": "code",
   "execution_count": null,
   "id": "bcc19a33-b0a3-459e-b6ed-463e344914ca",
   "metadata": {},
   "outputs": [],
   "source": [
    "axon_rec, ax_el, pos = ss.concatenate_recording_slices(rec_path, stream_id)"
   ]
  },
  {
   "cell_type": "code",
   "execution_count": null,
   "id": "97a7d66e-58ea-4911-9ff9-79b76305bb2b",
   "metadata": {},
   "outputs": [],
   "source": [
    "sliced = ss.cut_concatenated_recording(concat_rec, cutout=600)"
   ]
  },
  {
   "cell_type": "code",
   "execution_count": null,
   "id": "07bb67d2-0ce4-4998-a6ca-7a5866904d80",
   "metadata": {},
   "outputs": [],
   "source": [
    "concatenated = ss.intersect_and_concatenate_recording_list([axon_rec, sliced])\n",
    "concatenated"
   ]
  },
  {
   "cell_type": "code",
   "execution_count": null,
   "id": "ab0f6ee4-3175-497b-80b0-110b711c754f",
   "metadata": {},
   "outputs": [],
   "source": [
    "concatenation_list = []\n",
    "for i, path in enumerate(path_list[:-1]):\n",
    "    h5 = h5py.File(path)\n",
    "    rec_name = list(h5['wells'][stream_id].keys())[0]\n",
    "    rec = si.MaxwellRecordingExtractor(path, stream_id=stream_id, rec_name=rec_name)\n",
    "    if i > 0:\n",
    "        rec = rec.frame_slice(start_frame = rec.get_num_frames() - 10*60*rec.get_sampling_frequency(), end_frame = rec.get_num_frames())\n",
    "    #rec_binary = rec.save(format=\"memory\",n_jobs=-1)\n",
    "    rec_binary = rec.save(format=\"binary\",folder='/net/bs-filesvr02/export/group/hierlemann/intermediate_data/Maxtwo/phornauer/Chemogenetics_2/Week_2/concatenated/'+ str(i+1), n_jobs=-1)\n",
    "    print('Saved binary')\n",
    "    slice_rec_binary = rec_binary.channel_slice(nw_channels, renamed_channel_ids=list(range(len(nw_channels))))\n",
    "    print('Sliced binary')\n",
    "    slice_centered = si.center(slice_rec_binary)\n",
    "    print('Centered binary')\n",
    "    concatenation_list.append(slice_centered)"
   ]
  },
  {
   "cell_type": "code",
   "execution_count": null,
   "id": "dcc7acac-a4b4-4eeb-a8bf-932ed67deda0",
   "metadata": {},
   "outputs": [],
   "source": [
    "concatenation_list.append(axon_rec)"
   ]
  },
  {
   "cell_type": "code",
   "execution_count": null,
   "id": "c8e9f611-5dfd-4dd8-a860-5ad6f042b14a",
   "metadata": {},
   "outputs": [],
   "source": [
    "full_concat = si.concatenate_recordings(concatenation_list)"
   ]
  },
  {
   "cell_type": "code",
   "execution_count": null,
   "id": "ba40929d-fcab-4213-b681-f1e203fb8a79",
   "metadata": {},
   "outputs": [],
   "source": [
    "save_root = '/net/bs-filesvr02/export/group/hierlemann/intermediate_data/Maxtwo/phornauer/Chemogenetics_2/Week_2/concatenated/ax-bl_test'\n",
    "ss.clean_sorting(rec=conc, save_root=save_root, stream_id=stream_id, sorter=sorter, sorter_params=sorter_params)"
   ]
  },
  {
   "cell_type": "code",
   "execution_count": null,
   "id": "04f77631-9be6-4ccb-9608-4e86b49cf308",
   "metadata": {},
   "outputs": [],
   "source": [
    "recording_concat_loaded = si.load_extractor('/net/bs-filesvr02/export/group/hierlemann/intermediate_data/Maxtwo/phornauer/Chemogenetics_2/Week_2/concatenated/ax-bl_test/well002/spikeinterface_recording.json')"
   ]
  },
  {
   "cell_type": "code",
   "execution_count": null,
   "id": "69006473-10b7-4885-bca8-c9696fe06949",
   "metadata": {},
   "outputs": [],
   "source": [
    "sorting_concat_loaded = si.KiloSortSortingExtractor('/net/bs-filesvr02/export/group/hierlemann/intermediate_data/Maxtwo/phornauer/Chemogenetics_2/Week_2/concatenated/ax-bl_test/well002/sorter_output')"
   ]
  },
  {
   "cell_type": "code",
   "execution_count": null,
   "id": "93f124a9-ad99-4758-9a92-2e7cf8860001",
   "metadata": {},
   "outputs": [],
   "source": [
    "cleaned_sorting = si.remove_excess_spikes(sorting_concat_loaded, recording_concat_loaded)\n",
    "cleaned_sorting.register_recording(recording_concat_loaded)"
   ]
  },
  {
   "cell_type": "code",
   "execution_count": null,
   "id": "2daf15fc-e86a-4a45-b2c1-84c2a6e53eda",
   "metadata": {},
   "outputs": [],
   "source": [
    "segment_sorting = si.SplitSegmentSorting(cleaned_sorting, recording_concat_loaded)"
   ]
  },
  {
   "cell_type": "code",
   "execution_count": null,
   "id": "caf07628-a267-4b3e-8f90-e8755e6bd71b",
   "metadata": {},
   "outputs": [],
   "source": [
    "nw_sort = si.SelectSegmentSorting(segment_sorting, 1)"
   ]
  },
  {
   "cell_type": "code",
   "execution_count": null,
   "id": "1aabfe8e-50c6-46a9-b231-0995fb7e9101",
   "metadata": {},
   "outputs": [],
   "source": [
    "nw_sort = si.remove_excess_spikes(nw_sort, recording_concat_loaded.recording_list[1])"
   ]
  },
  {
   "cell_type": "code",
   "execution_count": null,
   "id": "7b598559-1cb1-45c7-a766-c896839735c6",
   "metadata": {},
   "outputs": [],
   "source": [
    "nw_sort.register_recording(recording_concat_loaded.recording_list[1])"
   ]
  },
  {
   "cell_type": "code",
   "execution_count": null,
   "id": "42c25039-94e3-4559-a4c3-62b15caaad0e",
   "metadata": {},
   "outputs": [],
   "source": [
    "recording_concat_loaded.recording_list[0]._parent_recording.recording_list[0]"
   ]
  },
  {
   "cell_type": "code",
   "execution_count": null,
   "id": "d7612943-8717-4e09-b255-c19de1be4041",
   "metadata": {},
   "outputs": [],
   "source": [
    "axon_rec, ax_el = ss.concatenate_recording_slices(rec_path, stream_id)"
   ]
  },
  {
   "cell_type": "code",
   "execution_count": null,
   "id": "89c70c55-58b4-4e87-998a-39b11f8218c2",
   "metadata": {},
   "outputs": [],
   "source": [
    "network_rec = ss.concatenate_recording_list(path_list, stream_id)"
   ]
  },
  {
   "cell_type": "code",
   "execution_count": null,
   "id": "5b3cab06-0b24-49f5-9bf4-af67f0fefb39",
   "metadata": {},
   "outputs": [],
   "source": [
    "nw_rec_el = network_rec.get_property(\"contact_vector\")[\"electrode\"]\n",
    "ax_rec_el = axon_rec.get_property(\"contact_vector\")[\"electrode\"]\n",
    "\n",
    "common_el = list(set(ax_rec_el).intersection(nw_rec_el))\n",
    "\n",
    "chan_idx = [np.where(ax_rec_el == el)[0][0] for el in common_el]\n",
    "ax_channels = axon_rec.get_channel_ids()[chan_idx]\n",
    "ax_rec_slice = axon_rec.channel_slice(ax_channels, renamed_channel_ids=list(range(len(chan_idx))))\n",
    "\n",
    "rec_list = [ax_rec_slice.astype('float16')]\n",
    "\n",
    "chan_idx = [np.where(nw_rec_el == el)[0][0] for el in common_el]\n",
    "nw_channels = network_rec.get_channel_ids()[chan_idx]\n",
    "nw_rec_slice = network_rec.channel_slice(nw_channels, renamed_channel_ids=list(range(len(chan_idx))))\n",
    "\n",
    "rec_list.append(nw_rec_slice.astype('float16'))"
   ]
  },
  {
   "cell_type": "code",
   "execution_count": null,
   "id": "7643b19c-eb67-480f-b3a2-ffae08fdb903",
   "metadata": {},
   "outputs": [],
   "source": [
    "concatenated_recording = si.concatenate_recordings(rec_list)"
   ]
  },
  {
   "cell_type": "code",
   "execution_count": null,
   "id": "f8c445bc-135b-4ad3-a7f5-e1ccbf6b811e",
   "metadata": {},
   "outputs": [],
   "source": [
    "save_root = '/net/bs-filesvr02/export/group/hierlemann/intermediate_data/Maxtwo/phornauer/Chemogenetics_2/Week_2/concatenated/test1'\n",
    "ss.clean_sorting(rec=concatenated_recording, save_root=save_root, stream_id=stream_id, sorter=sorter, sorter_params=sorter_params)"
   ]
  },
  {
   "cell_type": "code",
   "execution_count": null,
   "id": "13299211-f580-4f92-87d1-c86bc4768d61",
   "metadata": {},
   "outputs": [],
   "source": [
    "#'/net/bs-filesvr02/export/group/hierlemann/recordings/Mea1k/phornauer/Chemogenetics/231205/2977/Cell_B_positive.raw.h5'\n",
    "rec_path, stream_id, rec_name = path_list[0],'well000','rec0000'\n",
    "rec = si.MaxwellRecordingExtractor(rec_path, stream_id=stream_id, rec_name=rec_name)"
   ]
  },
  {
   "cell_type": "code",
   "execution_count": null,
   "id": "9092b30b-a4f0-448b-a72b-10ec8d38c336",
   "metadata": {},
   "outputs": [],
   "source": [
    "rec"
   ]
  },
  {
   "cell_type": "code",
   "execution_count": null,
   "id": "ea89042a-f541-43f3-b833-42ef2abd7dfb",
   "metadata": {},
   "outputs": [],
   "source": [
    "save_path = Path('/net/bs-filesvr02/export/group/hierlemann/intermediate_data/Maxtwo/phornauer/Chemogenetics_2/Week_2/concatenated/test')\n",
    "rec.save(folder=save_path, n_jobs=32, chunk_size=20000)"
   ]
  },
  {
   "cell_type": "code",
   "execution_count": null,
   "id": "a4ebf3d6-81d2-41a0-8cc5-8b108556d1f1",
   "metadata": {},
   "outputs": [],
   "source": [
    "frame_sliced = rec.frame_slice(start_frame=0*rec.get_sampling_frequency(),end_frame=rec.get_num_samples())\n",
    "save_path = Path('/net/bs-filesvr02/export/group/hierlemann/intermediate_data/Maxtwo/phornauer/Chemogenetics_2/Week_2/concatenated/test3')\n",
    "frame_sliced.save(folder=save_path, n_jobs=32, chunk_size=20000)"
   ]
  },
  {
   "cell_type": "code",
   "execution_count": null,
   "id": "759c4c44-c1af-4dae-ba4d-b42ada08737a",
   "metadata": {},
   "outputs": [],
   "source": [
    "rec"
   ]
  },
  {
   "cell_type": "code",
   "execution_count": null,
   "id": "13d7d7b0-9ec1-4002-9675-8bccede080d2",
   "metadata": {},
   "outputs": [],
   "source": [
    "save_path = Path('/net/bs-filesvr02/export/group/hierlemann/intermediate_data/Maxtwo/phornauer/Chemogenetics_2/Week_2/concatenated/test')\n",
    "loaded_frame = si.load_extractor(save_path)\n",
    "loaded_frame"
   ]
  },
  {
   "cell_type": "code",
   "execution_count": null,
   "id": "a076b5f4-498d-463d-9f71-0eba3ca34893",
   "metadata": {},
   "outputs": [],
   "source": [
    "sel_channels = np.random.choice(rec.get_channel_ids(),size=355,replace=False)\n",
    "slice_rec = rec.channel_slice(sel_channels, renamed_channel_ids=list(range(len(sel_channels))))\n",
    "slice_rec"
   ]
  },
  {
   "cell_type": "code",
   "execution_count": null,
   "id": "fd2c7a4e-81ee-42ad-84ff-701dd9b3972d",
   "metadata": {},
   "outputs": [],
   "source": [
    "slice_save_path = Path('/net/bs-filesvr02/export/group/hierlemann/intermediate_data/Maxtwo/phornauer/Chemogenetics_2/Week_2/concatenated/test1')\n",
    "slice_rec.save_to_folder(folder=slice_save_path, n_jobs=-1)"
   ]
  },
  {
   "cell_type": "code",
   "execution_count": null,
   "id": "c28be1ce-9fab-4310-9718-e56937f884df",
   "metadata": {},
   "outputs": [],
   "source": [
    "rec_binary = rec.save(format=\"memory\",n_jobs=-1)"
   ]
  },
  {
   "cell_type": "code",
   "execution_count": null,
   "id": "d3bb4ed0-d64e-4875-82a4-28234d5fae3d",
   "metadata": {},
   "outputs": [],
   "source": [
    "sel_channels = np.random.choice(rec.get_channel_ids(),size=355,replace=False)\n",
    "slice_rec_binary = rec_binary.channel_slice(sel_channels, renamed_channel_ids=list(range(len(sel_channels))))\n",
    "slice_rec_binary"
   ]
  }
 ],
 "metadata": {
  "language_info": {
   "name": "python"
  }
 },
 "nbformat": 4,
 "nbformat_minor": 5
}
