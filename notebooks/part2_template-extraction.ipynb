{
 "cells": [
  {
   "cell_type": "code",
   "execution_count": null,
   "id": "92f849ca-8cfa-47c9-a2a5-9a84c1b1ed3f",
   "metadata": {},
   "outputs": [],
   "source": [
    "%load_ext autoreload\n",
    "%autoreload 2"
   ]
  },
  {
   "cell_type": "code",
   "execution_count": null,
   "id": "b2e7a05e-671d-4be8-9fbd-6b1f1b888ef5",
   "metadata": {},
   "outputs": [],
   "source": [
    "import os, time, shutil, sys\n",
    "#from pathlib import Path\n",
    "from glob import glob\n",
    "from pprint import pprint\n",
    "import numpy as np\n",
    "import sklearn as sk\n",
    "import spikeinterface.full as si\n",
    "import matplotlib.pyplot as plt\n",
    "import warnings\n",
    "\n",
    "sys.path.append(\"/home/phornauer/Git/axon_tracking/\")\n",
    "from axon_tracking import spike_sorting as ss\n",
    "from axon_tracking import template_extraction as te"
   ]
  },
  {
   "cell_type": "code",
   "execution_count": null,
   "id": "9f801cf9-3865-4f5f-8d1a-36147abc16eb",
   "metadata": {},
   "outputs": [],
   "source": [
    "root_path = \"/net/bs-filesvr02/export/group/hierlemann/recordings/Maxtwo/phornauer/\" # Fixed path root that all recordings have in common\n",
    "path_pattern = [\"231207\", \"Chemo*\",  \"T002443\",\"AxonTracking\",\"0*\"] # Variable part of the path, where we collect all possible combinations using wildcards (*). It is still recommended to be as specific as possible to avoid ambiguities.\n",
    "file_name = \"data.raw.h5\" # File name of the recording\n",
    "\n",
    "full_path = os.path.join(root_path, *path_pattern, file_name)\n",
    "path_list = glob(full_path)\n",
    "print(f'Found {len(path_list)} recording paths matching the description:\\n{full_path}\\n')\n",
    "pprint(path_list)"
   ]
  },
  {
   "cell_type": "code",
   "execution_count": null,
   "id": "bb99459d-eefd-40dd-9fe9-3679bb39466a",
   "metadata": {},
   "outputs": [],
   "source": [
    "save_path_changes = {'pos': [0, 6, 7, 8, 9, 10, 11, 12, 13, 14], 'vals': ['/', 'intermediate_data', 'Maxtwo', 'phornauer','Chemogenetics_2', 'Week_2', 'T002443', 'AxonTracking', '','']}\n",
    "\n",
    "save_path = ss.convert_rec_path_to_save_path(full_path, save_path_changes)\n",
    "    \n",
    "print(f'The save path corresponds to the pattern:\\n {save_path}\\n')"
   ]
  },
  {
   "cell_type": "code",
   "execution_count": null,
   "id": "564827ad-37fc-402c-a687-ae83f0ac17e5",
   "metadata": {},
   "outputs": [],
   "source": [
    "sorting_dict = te.find_successful_sortings(path_list, save_path_changes)\n",
    "print(f'Found {sum(map(len, sorting_dict.values()))} successful sortings')"
   ]
  },
  {
   "cell_type": "code",
   "execution_count": null,
   "id": "319aa51e-8b61-4e81-8dd5-be01abe3d112",
   "metadata": {},
   "outputs": [],
   "source": [
    "te_params = dict()\n",
    "te_params['align_cutout'] = True #Align waveforms by max waveform peak\n",
    "te_params['upsample'] = 2 #Factor by which to upsample waveforms\n",
    "te_params['rm_outliers'] = True #Check if outliers should be removed\n",
    "te_params['n_jobs'] = 16 #Number of cores to use for waveform extraction\n",
    "te_params['n_neighbors'] = 10 #Number of neighbors for outlier detection\n",
    "te_params['peak_cutout'] = 2 #Looking for peak +- this value around the expected peak (removing minor offsets)\n",
    "te_params['overwrite_wf'] = False #Flag if waveform extraction should be repeated (e.g. different cutouts)\n",
    "te_params['overwrite_tmp'] = True #Flag if templates should be recalculated if already existing\n",
    "\n",
    "qc_params = dict()\n",
    "qc_params['min_n_spikes'] = 500 #Minimum number of spikes to be detected for a unit for template extraction to take place\n",
    "qc_params['exclude_mua'] = True #Exclude units that were labelled multi unit activity by kilosort"
   ]
  },
  {
   "cell_type": "code",
   "execution_count": null,
   "id": "5c50967d-9dc2-48c4-8ae9-a5a88b8285ef",
   "metadata": {},
   "outputs": [],
   "source": [
    "#To suppress warning when the outlier detection has too few samples\n",
    "warnings.simplefilter(\"ignore\")\n",
    "\n",
    "te.extract_templates_from_sorting_dict(sorting_dict, qc_params, te_params)"
   ]
  },
  {
   "cell_type": "code",
   "execution_count": null,
   "id": "19cf41b3-f402-4b57-969a-d2c0c63bdf64",
   "metadata": {},
   "outputs": [],
   "source": [
    "root_path = \"/net/bs-filesvr02/export/group/hierlemann/intermediate_data/Maxtwo/phornauer/iNeurons/230731/T002443/AxonTracking/\"\n",
    "stream_id = 'well009'\n",
    "template_id = 189"
   ]
  },
  {
   "cell_type": "code",
   "execution_count": null,
   "id": "c45e38e1-5d1d-49dc-b767-21d8d2bf75dd",
   "metadata": {},
   "outputs": [],
   "source": [
    "sorting_path = \"/net/bs-filesvr02/export/group/hierlemann/intermediate_data/Maxtwo/phornauer/iNeurons/230731/T002443/AxonTracking/well009/sorter_output/\"\n",
    "sorting = si.KiloSortSortingExtractor(sorting_path)\n",
    "stream_id = 'well009' #Find out which well this belongs to\n",
    "#print(stream_id)\n",
    "#rec_names, common_el, pos = ss.find_common_electrodes(rec_path, stream_id)"
   ]
  },
  {
   "cell_type": "code",
   "execution_count": null,
   "id": "4d85cec7-ee82-4f5d-b8db-d6fa00252f29",
   "metadata": {},
   "outputs": [],
   "source": [
    "rec_path = \"/net/bs-filesvr02/export/group/hierlemann/recordings/Maxtwo/mpriouret/iNeurons/230731/T002443/AxonTracking/000150/data.raw.h5\""
   ]
  },
  {
   "cell_type": "code",
   "execution_count": null,
   "id": "5a0f6dde-795a-4ea1-bb88-3cf1999eb3b3",
   "metadata": {},
   "outputs": [],
   "source": [
    "multirecording, pos = ss.concatenate_recording_slices(rec_path, stream_id)          "
   ]
  },
  {
   "cell_type": "code",
   "execution_count": null,
   "id": "4ef869bc-b095-4c51-aec9-83ff43a6be95",
   "metadata": {},
   "outputs": [],
   "source": [
    "cleaned_sorting = te.select_units(sorting, **qc_params)\n",
    "#cleaned_sorting = si.remove_excess_spikes(cleaned_sorting, multirecording) #Relevant if last spike time == recording_length\n",
    "cleaned_sorting.register_recording(multirecording)\n",
    "segment_sorting = si.SplitSegmentSorting(cleaned_sorting, multirecording)"
   ]
  },
  {
   "cell_type": "code",
   "execution_count": null,
   "id": "e599ec28-b06b-4218-9ea8-c9b4af53e3d2",
   "metadata": {},
   "outputs": [],
   "source": [
    "sel_unit_id = 189\n",
    "save_root = sorting_path\n",
    "template_matrix = te.combine_templates(stream_id, segment_sorting, sel_unit_id, save_root, **te_params)"
   ]
  },
  {
   "cell_type": "code",
   "execution_count": null,
   "id": "9652788c-8d45-4815-8470-640bd30225ce",
   "metadata": {},
   "outputs": [],
   "source": [
    "aligned_and_removed = te.convert_to_grid(template_matrix, pos)"
   ]
  },
  {
   "cell_type": "code",
   "execution_count": null,
   "id": "9b867eea-f2ba-48e2-a23c-1ec33e7f8548",
   "metadata": {},
   "outputs": [],
   "source": [
    "plt.imshow(np.min(aligned_and_removed,axis=2).T,vmin=-5, vmax=0)\n",
    "plt.show()"
   ]
  },
  {
   "cell_type": "code",
   "execution_count": null,
   "id": "4ca3d85e-eebc-4937-abf9-99c2186514e9",
   "metadata": {},
   "outputs": [],
   "source": [
    "te_params['align_cutout'] = False #Align waveforms by max waveform peak\n",
    "template_matrix = te.combine_templates(stream_id, segment_sorting, sel_unit_id, save_root, **te_params)\n",
    "not_aligned_but_removed = te.convert_to_grid(template_matrix, pos)"
   ]
  },
  {
   "cell_type": "code",
   "execution_count": null,
   "id": "11e39c5b-fe51-4bcb-a660-9fef9f39a4e2",
   "metadata": {},
   "outputs": [],
   "source": [
    "plt.imshow(np.min(not_aligned_but_removed,axis=2).T,vmin=-5, vmax=0)\n",
    "plt.show()"
   ]
  },
  {
   "cell_type": "code",
   "execution_count": null,
   "id": "3e12d797-11a3-4a9e-a474-a5a78688a8f5",
   "metadata": {},
   "outputs": [],
   "source": [
    "te_params['rm_outliers'] = False #Check if outliers should be removed\n",
    "template_matrix = te.combine_templates(stream_id, segment_sorting, sel_unit_id, save_root, **te_params)\n",
    "not_aligned_not_removed = te.convert_to_grid(template_matrix, pos)"
   ]
  },
  {
   "cell_type": "code",
   "execution_count": null,
   "id": "d360f60a-4e5b-4ed5-bf93-1993d6bbfb74",
   "metadata": {},
   "outputs": [],
   "source": [
    "plt.imshow(np.min(not_aligned_not_removed,axis=2).T,vmin=-2, vmax=0)\n",
    "plt.show()"
   ]
  },
  {
   "cell_type": "code",
   "execution_count": null,
   "id": "b637b5c1-c4dc-4e28-8b5f-0f16227ecd8e",
   "metadata": {},
   "outputs": [],
   "source": [
    "plot_data = np.diff(not_aligned_not_removed)\n",
    "plt.imshow(np.min(plot_data,axis=2).T,vmin=-2, vmax=0)\n",
    "plt.show()"
   ]
  },
  {
   "cell_type": "code",
   "execution_count": null,
   "id": "b2a1afa5-9a2c-4f9a-877e-ce089dc30cf6",
   "metadata": {},
   "outputs": [],
   "source": [
    "plt.plot(template_matrix)\n",
    "plt.show()"
   ]
  }
 ],
 "metadata": {
  "language_info": {
   "name": "python"
  }
 },
 "nbformat": 4,
 "nbformat_minor": 5
}
