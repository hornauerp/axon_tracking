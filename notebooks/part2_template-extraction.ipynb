{
 "cells": [
  {
   "cell_type": "code",
   "execution_count": null,
   "id": "92f849ca-8cfa-47c9-a2a5-9a84c1b1ed3f",
   "metadata": {},
   "outputs": [],
   "source": [
    "%load_ext autoreload\n",
    "%autoreload 2"
   ]
  },
  {
   "cell_type": "code",
   "execution_count": null,
   "id": "b2e7a05e-671d-4be8-9fbd-6b1f1b888ef5",
   "metadata": {},
   "outputs": [],
   "source": [
    "import os\n",
    "import sys\n",
    "from glob import glob\n",
    "from pprint import pprint\n",
    "\n",
    "sys.path.append(\"/home/phornauer/Git/axon_tracking/\")\n",
    "from axon_tracking import template_extraction as te"
   ]
  },
  {
   "cell_type": "code",
   "execution_count": null,
   "id": "f507e006",
   "metadata": {},
   "outputs": [],
   "source": [
    "te_params = dict()\n",
    "te_params['n_jobs'] = 16 #Number of cores to use for waveform extraction\n",
    "te_params['filter_band'] = 150 #Either float for the highpass filter frequency or list for the bandpass filter frequencies\n",
    "te_params['overwrite'] = False #Flag if templates should be recalculated if already existing\n",
    "te_params['max_spikes_per_unit'] = 1000 #Maximum number of spikes to be used for template extraction\n",
    "\n",
    "qc_params = dict()\n",
    "qc_params['min_n_spikes'] = 1500 #Minimum number of spikes to be detected for a unit for template extraction to take place\n",
    "qc_params['exclude_mua'] = True #Exclude units that were labelled multi unit activity by kilosort\n",
    "qc_params['use_bc'] = False #Use bombcell for QC (has to be run separately)"
   ]
  },
  {
   "cell_type": "markdown",
   "id": "9f119394",
   "metadata": {},
   "source": [
    "We only need a list of folders containing the sorting results (sorting_list) and can then infer the recording paths automatically. Change root_path and path_pattern so that they represent the sortings you want to analyze. \n",
    "Use wildcards (*) where appropriate, but still try to be as specific as possible to prevent ambiguities."
   ]
  },
  {
   "cell_type": "code",
   "execution_count": null,
   "id": "e1dc7de1",
   "metadata": {},
   "outputs": [],
   "source": [
    "root_path = \"/net/bs-filesvr02/export/group/hierlemann/intermediate_data/Maxtwo/phornauer/\" # Fixed path root that all recordings have in common\n",
    "path_pattern = [\"AxonScan\", \"23*\",  \"T002443\",\"AxonTracking\",\"w*\",\"sorter_output\"] # Variable part of the path, where we collect all possible combinations using wildcards (*). It is still recommended to be as specific as possible to avoid ambiguities.\n",
    "\n",
    "full_path = os.path.join(root_path, *path_pattern)\n",
    "sorting_list = glob(full_path)\n",
    "sorting_list.sort()\n",
    "print(f'Found {len(sorting_list)} sorting paths matching the description:\\n{full_path}\\n')\n",
    "#pprint(sorting_list)"
   ]
  },
  {
   "cell_type": "markdown",
   "id": "55554ea7",
   "metadata": {},
   "source": [
    "Optional: Check the sorting list and only include a selection of the sortings"
   ]
  },
  {
   "cell_type": "code",
   "execution_count": null,
   "id": "6e342c31",
   "metadata": {},
   "outputs": [],
   "source": [
    "pprint(sorting_list)"
   ]
  },
  {
   "cell_type": "code",
   "execution_count": null,
   "id": "a0f0e9d2",
   "metadata": {},
   "outputs": [],
   "source": [
    "sorting_list = sorting_list[:1] # For testing purposes, we only use the first recording"
   ]
  },
  {
   "cell_type": "markdown",
   "id": "664cee74",
   "metadata": {},
   "source": [
    "Now we can run the actual template extraction:"
   ]
  },
  {
   "cell_type": "code",
   "execution_count": null,
   "id": "8cb07b6f",
   "metadata": {},
   "outputs": [],
   "source": [
    "te.extract_templates_from_sorting_list(sorting_list, qc_params, te_params)"
   ]
  },
  {
   "cell_type": "markdown",
   "id": "027b1626",
   "metadata": {},
   "source": [
    "We can also have a quick look at the template we just extracted:"
   ]
  },
  {
   "cell_type": "code",
   "execution_count": null,
   "id": "22552cfd",
   "metadata": {},
   "outputs": [],
   "source": [
    "from axon_tracking import visualization as vis #Separate as it is not needed for the template extraction"
   ]
  },
  {
   "cell_type": "code",
   "execution_count": null,
   "id": "c59486a0",
   "metadata": {},
   "outputs": [],
   "source": [
    "root_path = \"/net/bs-filesvr02/export/group/hierlemann/intermediate_data/Maxtwo/phornauer/Torsten_2/241010/T002523/AxonTracking/well000/sorter_output/\"\n",
    "plot_path = os.path.join(root_path, 'templates')\n",
    "\n",
    "vis.plot_template_overview(plot_path)"
   ]
  }
 ],
 "metadata": {
  "kernelspec": {
   "display_name": "si101",
   "language": "python",
   "name": "python3"
  },
  "language_info": {
   "codemirror_mode": {
    "name": "ipython",
    "version": 3
   },
   "file_extension": ".py",
   "mimetype": "text/x-python",
   "name": "python",
   "nbconvert_exporter": "python",
   "pygments_lexer": "ipython3",
   "version": "3.12.7"
  }
 },
 "nbformat": 4,
 "nbformat_minor": 5
}
