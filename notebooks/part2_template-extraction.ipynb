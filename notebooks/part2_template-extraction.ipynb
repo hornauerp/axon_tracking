{
 "cells": [
  {
   "cell_type": "code",
   "execution_count": null,
   "id": "92f849ca-8cfa-47c9-a2a5-9a84c1b1ed3f",
   "metadata": {},
   "outputs": [],
   "source": [
    "%load_ext autoreload\n",
    "%autoreload 2"
   ]
  },
  {
   "cell_type": "code",
   "execution_count": null,
   "id": "b2e7a05e-671d-4be8-9fbd-6b1f1b888ef5",
   "metadata": {},
   "outputs": [],
   "source": [
    "import os, time, shutil, sys\n",
    "#from pathlib import Path\n",
    "from glob import glob\n",
    "from pprint import pprint\n",
    "import numpy as np\n",
    "import sklearn as sk\n",
    "import spikeinterface.full as si\n",
    "import matplotlib.pyplot as plt\n",
    "import warnings\n",
    "\n",
    "sys.path.append(\"/home/phornauer/Git/axon_tracking/\")\n",
    "from axon_tracking import spike_sorting as ss\n",
    "from axon_tracking import template_extraction as te"
   ]
  },
  {
   "cell_type": "code",
   "execution_count": null,
   "id": "9f801cf9-3865-4f5f-8d1a-36147abc16eb",
   "metadata": {},
   "outputs": [],
   "source": [
    "root_path = \"/net/bs-filesvr02/export/group/hierlemann/recordings/Mea1k/phornauer/\" # Fixed path root that all recordings have in common\n",
    "path_pattern = [\"SCR_rebuttal_week_*\", \"2*\", \"M0*\",\"AxonTracking\",\"0*\"] # Variable part of the path, where we collect all possible combinations using wildcards (*). It is still recommended to be as specific as possible to avoid ambiguities.\n",
    "file_name = \"data.raw.h5\" # File name of the recording\n",
    "\n",
    "full_path = os.path.join(root_path, *path_pattern, file_name)\n",
    "path_list = glob(full_path)\n",
    "print(f'Found {len(path_list)} recording paths matching the description:\\n{full_path}\\n')"
   ]
  },
  {
   "cell_type": "code",
   "execution_count": null,
   "id": "bb99459d-eefd-40dd-9fe9-3679bb39466a",
   "metadata": {},
   "outputs": [],
   "source": [
    "save_path_changes = {'pos': [0, 6, 7, -1, -2], 'vals': ['/', 'intermediate_data', 'Mea1k', '','']}\n",
    "save_path = ss.convert_rec_path_to_save_path(full_path, save_path_changes)\n",
    "    \n",
    "print(f'The save path corresponds to the pattern:\\n {save_path}\\n')"
   ]
  },
  {
   "cell_type": "code",
   "execution_count": null,
   "id": "564827ad-37fc-402c-a687-ae83f0ac17e5",
   "metadata": {},
   "outputs": [],
   "source": [
    "sorting_dict = te.find_successful_sortings(path_list, save_path_changes)\n",
    "print(f'Found {sum(map(len, sorting_dict.values()))} successful sortings')"
   ]
  },
  {
   "cell_type": "code",
   "execution_count": null,
   "id": "319aa51e-8b61-4e81-8dd5-be01abe3d112",
   "metadata": {},
   "outputs": [],
   "source": [
    "te_params = dict()\n",
    "te_params['align_cutout'] = True\n",
    "te_params['upsample'] = 2\n",
    "te_params['rm_outliers'] = True\n",
    "te_params['n_jobs'] = 16\n",
    "te_params['n_neighbors'] = 10\n",
    "te_params['peak_cutout'] = 2 #Looking for peak +- this value around the expected peak (removing minor offsets)\n",
    "te_params['overwrite'] = False\n",
    "\n",
    "qc_params = dict()\n",
    "qc_params['min_n_spikes'] = 50\n",
    "qc_params['exclude_mua'] = True"
   ]
  },
  {
   "cell_type": "code",
   "execution_count": null,
   "id": "5c50967d-9dc2-48c4-8ae9-a5a88b8285ef",
   "metadata": {},
   "outputs": [],
   "source": [
    "#To suppress warning when the outlier detection has too few samples\n",
    "warnings.filterwarnings(\"ignore\", message=\"greater than the total number of samples\")\n",
    "\n",
    "te.extract_templates_from_sorting_dict(sorting_dict, qc_params, te_params)"
   ]
  }
 ],
 "metadata": {
  "kernelspec": {
   "display_name": "Python 3 (ipykernel)",
   "language": "python",
   "name": "python3"
  },
  "language_info": {
   "codemirror_mode": {
    "name": "ipython",
    "version": 3
   },
   "file_extension": ".py",
   "mimetype": "text/x-python",
   "name": "python",
   "nbconvert_exporter": "python",
   "pygments_lexer": "ipython3",
   "version": "3.9.15"
  }
 },
 "nbformat": 4,
 "nbformat_minor": 5
}
