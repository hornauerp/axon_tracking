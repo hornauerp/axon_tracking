{
 "cells": [
  {
   "cell_type": "code",
   "execution_count": null,
   "id": "92f849ca-8cfa-47c9-a2a5-9a84c1b1ed3f",
   "metadata": {},
   "outputs": [],
   "source": [
    "%load_ext autoreload\n",
    "%autoreload 2"
   ]
  },
  {
   "cell_type": "code",
   "execution_count": null,
   "id": "b2e7a05e-671d-4be8-9fbd-6b1f1b888ef5",
   "metadata": {},
   "outputs": [],
   "source": [
    "import os, time, shutil, sys\n",
    "#from pathlib import Path\n",
    "from glob import glob\n",
    "from pprint import pprint\n",
    "import numpy as np\n",
    "import sklearn as sk\n",
    "import spikeinterface.full as si\n",
    "import matplotlib.pyplot as plt\n",
    "import warnings\n",
    "\n",
    "sys.path.append(\"/home/phornauer/Git/axon_tracking/\")\n",
    "from axon_tracking import spike_sorting as ss\n",
    "from axon_tracking import template_extraction as te"
   ]
  },
  {
   "cell_type": "code",
   "execution_count": null,
   "id": "9f801cf9-3865-4f5f-8d1a-36147abc16eb",
   "metadata": {},
   "outputs": [],
   "source": [
    "root_path = \"/net/bs-filesvr02/export/group/hierlemann/recordings/Maxtwo/phornauer/\" # Fixed path root that all recordings have in common\n",
    "path_pattern = [\"231207\", \"Chemo*\",  \"T002443\",\"AxonTracking\",\"0*\"] # Variable part of the path, where we collect all possible combinations using wildcards (*). It is still recommended to be as specific as possible to avoid ambiguities.\n",
    "file_name = \"data.raw.h5\" # File name of the recording\n",
    "\n",
    "full_path = os.path.join(root_path, *path_pattern, file_name)\n",
    "path_list = glob(full_path)\n",
    "print(f'Found {len(path_list)} recording paths matching the description:\\n{full_path}\\n')\n",
    "pprint(path_list)"
   ]
  },
  {
   "cell_type": "code",
   "execution_count": null,
   "id": "bb99459d-eefd-40dd-9fe9-3679bb39466a",
   "metadata": {},
   "outputs": [],
   "source": [
    "save_path_changes = {'pos': [0, 6, 7, 8, 9, 10, 11, 12, 13, 14], 'vals': ['/', 'intermediate_data', 'Maxtwo', 'phornauer','Chemogenetics_2', 'Week_2', 'T002443', 'AxonTracking', '','']}\n",
    "\n",
    "save_path = ss.convert_rec_path_to_save_path(full_path, save_path_changes)\n",
    "    \n",
    "print(f'The save path corresponds to the pattern:\\n {save_path}\\n')"
   ]
  },
  {
   "cell_type": "code",
   "execution_count": null,
   "id": "564827ad-37fc-402c-a687-ae83f0ac17e5",
   "metadata": {},
   "outputs": [],
   "source": [
    "sorting_dict = te.find_successful_sortings(path_list, save_path_changes)\n",
    "print(f'Found {sum(map(len, sorting_dict.values()))} successful sortings')"
   ]
  },
  {
   "cell_type": "code",
   "execution_count": null,
   "id": "319aa51e-8b61-4e81-8dd5-be01abe3d112",
   "metadata": {},
   "outputs": [],
   "source": [
    "te_params = dict()\n",
    "te_params['align_cutout'] = True #Align waveforms by max waveform peak\n",
    "te_params['upsample'] = 2 #Factor by which to upsample waveforms\n",
    "te_params['rm_outliers'] = True #Check if outliers should be removed\n",
    "te_params['n_jobs'] = 16 #Number of cores to use for waveform extraction\n",
    "te_params['n_neighbors'] = 10 #Number of neighbors for outlier detection\n",
    "te_params['peak_cutout'] = 2 #Looking for peak +- this value around the expected peak (removing minor offsets)\n",
    "te_params['overwrite_wf'] = False #Flag if waveform extraction should be repeated (e.g. different cutouts)\n",
    "te_params['overwrite_tmp'] = True #Flag if templates should be recalculated if already existing\n",
    "\n",
    "qc_params = dict()\n",
    "qc_params['min_n_spikes'] = 500 #Minimum number of spikes to be detected for a unit for template extraction to take place\n",
    "qc_params['exclude_mua'] = True #Exclude units that were labelled multi unit activity by kilosort"
   ]
  },
  {
   "cell_type": "code",
   "execution_count": null,
   "id": "5c50967d-9dc2-48c4-8ae9-a5a88b8285ef",
   "metadata": {},
   "outputs": [],
   "source": [
    "#To suppress warning when the outlier detection has too few samples\n",
    "warnings.simplefilter(\"ignore\")\n",
    "\n",
    "te.extract_templates_from_sorting_dict(sorting_dict, qc_params, te_params)"
   ]
  }
 ],
 "metadata": {
  "language_info": {
   "name": "python"
  }
 },
 "nbformat": 4,
 "nbformat_minor": 5
}
