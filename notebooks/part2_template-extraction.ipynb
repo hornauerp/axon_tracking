{
 "cells": [
  {
   "cell_type": "code",
   "execution_count": null,
   "id": "92f849ca-8cfa-47c9-a2a5-9a84c1b1ed3f",
   "metadata": {},
   "outputs": [],
   "source": [
    "%load_ext autoreload\n",
    "%autoreload 2"
   ]
  },
  {
   "cell_type": "code",
   "execution_count": null,
   "id": "b2e7a05e-671d-4be8-9fbd-6b1f1b888ef5",
   "metadata": {},
   "outputs": [],
   "source": [
    "import os, time, shutil, sys\n",
    "#from pathlib import Path\n",
    "from glob import glob\n",
    "from pprint import pprint\n",
    "import numpy as np\n",
    "import spikeinterface.full as si\n",
    "import matplotlib.pyplot as plt\n",
    "\n",
    "sys.path.append(\"/home/phornauer/Git/axon_tracking/\")\n",
    "from axon_tracking import spike_sorting as ss\n",
    "from axon_tracking import template_extraction as te"
   ]
  },
  {
   "cell_type": "code",
   "execution_count": null,
   "id": "9f801cf9-3865-4f5f-8d1a-36147abc16eb",
   "metadata": {},
   "outputs": [],
   "source": [
    "root_path = \"/net/bs-filesvr02/export/group/hierlemann/recordings/Mea1k/phornauer/\" # Fixed path root that all recordings have in common\n",
    "path_pattern = [\"SCR_rebuttal_week_*\", \"2*\", \"M0*\",\"AxonTracking\",\"0*\"] # Variable part of the path, where we collect all possible combinations using wildcards (*). It is still recommended to be as specific as possible to avoid ambiguities.\n",
    "file_name = \"data.raw.h5\" # File name of the recording\n",
    "\n",
    "full_path = os.path.join(root_path, *path_pattern, file_name)\n",
    "path_list = glob(full_path)\n",
    "print(f'Found {len(path_list)} recording paths matching the description:\\n{full_path}\\n')"
   ]
  },
  {
   "cell_type": "code",
   "execution_count": null,
   "id": "bb99459d-eefd-40dd-9fe9-3679bb39466a",
   "metadata": {},
   "outputs": [],
   "source": [
    "save_path_changes = {'pos': [0, 6, 7, -1, -2], 'vals': ['/', 'intermediate_data', 'Mea1k', '','']}\n",
    "save_path = ss.convert_rec_path_to_save_path(full_path, save_path_changes)\n",
    "    \n",
    "print(f'The save path corresponds to the pattern:\\n {save_path}\\n')"
   ]
  },
  {
   "cell_type": "code",
   "execution_count": null,
   "id": "3927ea03-1e76-41c8-8d84-4e9a43093ce5",
   "metadata": {},
   "outputs": [],
   "source": [
    "path = ss.convert_rec_path_to_save_path(path_list[4], save_path_changes)\n",
    "path"
   ]
  },
  {
   "cell_type": "code",
   "execution_count": null,
   "id": "1f035bc8-c20f-430b-8df6-afed9b36e763",
   "metadata": {},
   "outputs": [],
   "source": [
    "sorting_dict = te.find_successful_sortings(path_list[4:5], save_path_changes)\n",
    "sorting_dict"
   ]
  },
  {
   "cell_type": "code",
   "execution_count": null,
   "id": "305646f8-c1a2-475b-b038-555e12f73b8e",
   "metadata": {},
   "outputs": [],
   "source": [
    "rec_list = list(sorting_dict.keys())\n",
    "sorting_list = sorting_dict[rec_list[0]]\n",
    "sorting_list"
   ]
  }
 ],
 "metadata": {
  "language_info": {
   "name": "python"
  }
 },
 "nbformat": 4,
 "nbformat_minor": 5
}
