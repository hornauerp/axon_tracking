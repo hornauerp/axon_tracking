{
 "cells": [
  {
   "cell_type": "code",
   "execution_count": null,
   "id": "eafc8726-d733-4ac4-8226-2a8d713822bd",
   "metadata": {},
   "outputs": [],
   "source": [
    "%load_ext autoreload\n",
    "%autoreload 2"
   ]
  },
  {
   "cell_type": "code",
   "execution_count": null,
   "id": "d4ef88ee-f4f6-425c-a520-93faee58ed6f",
   "metadata": {},
   "outputs": [],
   "source": [
    "import os,sys, kimimaro, pickle\n",
    "import seaborn as sns\n",
    "import pandas as pd\n",
    "import numpy as np\n",
    "from skimage.morphology import disk, ball, square\n",
    "import scipy.ndimage as nd\n",
    "import matplotlib.pyplot as plt\n",
    "import matplotlib.animation as anim\n",
    "import cloudvolume as cv\n",
    "from IPython.display import HTML\n",
    "from matplotlib.collections import LineCollection\n",
    "sys.path.append(\"/home/phornauer/Git/axon_tracking/\")\n",
    "import axon_tracking.skeletonization as skel\n",
    "import axon_tracking.template_extraction as te\n",
    "import axon_tracking.visualization as vis\n",
    "import axon_tracking.quantification as quant"
   ]
  },
  {
   "cell_type": "code",
   "execution_count": null,
   "id": "77a9f6ad-f85a-4785-b5df-f1404f3fa02c",
   "metadata": {},
   "outputs": [],
   "source": [
    "params = dict()\n",
    "params['noise_threshold'] = -2\n",
    "params['abs_threshold'] = -0.2\n",
    "params['upsample'] = [1,1,1]\n",
    "params['sampling_rate'] = 20000/params['upsample'][2] # [Hz]\n",
    "params['ms_cutout'] = [1.5, 5.0]\n",
    "params['filter_footprint'] = ball(1)#np.ones((2,2,3))\n",
    "params['max_velocity'] = 1 # [m/s]\n",
    "params['max_noise_level'] = 0.25"
   ]
  },
  {
   "cell_type": "code",
   "execution_count": null,
   "id": "f8942f96-5ff9-40f0-910a-baaefc691741",
   "metadata": {},
   "outputs": [],
   "source": [
    "skel_params = dict()\n",
    "skel_params['scale'] = 1#1\n",
    "skel_params['const'] = 2#3\n",
    "skel_params['dust_threshold'] = 5\n",
    "skel_params['anisotropy'] = (1, 1, 1)\n",
    "skel_params['tick_threshold'] = 5\n",
    "skel_params['n_jobs'] = 16"
   ]
  },
  {
   "cell_type": "code",
   "execution_count": null,
   "id": "a630402b-266f-4399-a1a5-d89ac3855b04",
   "metadata": {},
   "outputs": [],
   "source": [
    "qc_params = dict()\n",
    "qc_params['window_size'] = 7\n",
    "qc_params['max_duplicate_ratio'] = 0.3\n",
    "qc_params['min_r2'] = 0.8\n",
    "qc_params['vel_range'] = [0.25, 1.25]\n",
    "qc_params['min_length'] = 1"
   ]
  },
  {
   "cell_type": "code",
   "execution_count": null,
   "id": "9c333f25-a281-43e3-b19a-cab335001620",
   "metadata": {},
   "outputs": [],
   "source": [
    "def condition_from_well_id(well_id):\n",
    "    if well_id < 12:\n",
    "        reg = 0\n",
    "    else:\n",
    "        reg = 1\n",
    "\n",
    "    if well_id%6 < 2:\n",
    "        aav_id = 0\n",
    "    elif well_id%6 > 3:\n",
    "        aav_id = 129\n",
    "    else:\n",
    "        aav_id = 128\n",
    "\n",
    "    return reg, aav_id"
   ]
  },
  {
   "cell_type": "code",
   "execution_count": null,
   "id": "012208ab-06d3-44be-bd94-43d6bf501b19",
   "metadata": {},
   "outputs": [],
   "source": [
    "root_path = '/net/bs-filesvr02/export/group/hierlemann/intermediate_data/Maxtwo/phornauer/Chemogenetics/Low_dose_range/concatenated/'\n",
    "week = 2\n",
    "experiment_id = 1\n",
    "\n",
    "column_names = ['full_velocities', 'velocity_mean', 'velocity_std','template_size','branch_point_count','branch_dist_mean','branch_dist_std',\n",
    "                'branch_length_mean','branch_length_std','longest_axon','terminal_count','projection_dist_mean','projection_dist_std','well_id',\n",
    "               'aav','age','experiment','region','responder','unit_id']"
   ]
  },
  {
   "cell_type": "code",
   "execution_count": null,
   "id": "9da15fd2-a258-42fb-88e2-93fe0db4ea27",
   "metadata": {},
   "outputs": [],
   "source": [
    "full_velocities = []\n",
    "velocity_mean = []\n",
    "velocity_std = []\n",
    "template_size = []\n",
    "branch_point_count = []\n",
    "branch_dist_mean = []\n",
    "branch_dist_std = []\n",
    "branch_length_mean = []\n",
    "branch_length_std = []\n",
    "longest_axon = []\n",
    "terminal_count = []\n",
    "projection_dist_mean = []\n",
    "projection_dist_std = []\n",
    "well_id = []\n",
    "aav = []\n",
    "age = []\n",
    "experiment = []\n",
    "region = []\n",
    "unit_id = []\n",
    "responder = []"
   ]
  },
  {
   "cell_type": "code",
   "execution_count": null,
   "id": "07a780d2-34f7-498c-8ad0-6b5c747a1127",
   "metadata": {},
   "outputs": [],
   "source": [
    "for w in range(24):\n",
    "    stream_id = 'well' + str(w).zfill(3)\n",
    "    well_path = os.path.join(root_path, stream_id)\n",
    "    if not os.path.exists(os.path.join(well_path,'good_responders.npy')):\n",
    "        continue\n",
    "    responders = np.load(os.path.join(well_path,'good_responders.npy'))\n",
    "    non_responders = np.load(os.path.join(well_path,'good_non_responders.npy'))\n",
    "    \n",
    "    analysis_path = os.path.join(root_path, stream_id, 'analysis')\n",
    "    if not os.path.exists(analysis_path):\n",
    "        os.mkdir(analysis_path)\n",
    "        \n",
    "    template_ids = np.concatenate((responders,non_responders)).astype('int')\n",
    "    for template_id in template_ids:\n",
    "        try:\n",
    "            qc_skeleton, scaled_qc_list = skel.full_skeletonization(root_path, stream_id, template_id, params, skel_params, qc_params)\n",
    "            if len(scaled_qc_list) < 1:\n",
    "                continue\n",
    "            path_list, r2s, full_vels, lengths = skel.perform_path_qc(scaled_qc_list, params,**qc_params)\n",
    "    \n",
    "            qc_skeleton, scaled_qc_list = skel.full_skeletonization(root_path, stream_id, template_id, params, skel_params, qc_params)\n",
    "            with open(os.path.join(analysis_path,str(template_id) + '_skel.pkl'),'wb') as file_name:\n",
    "                pickle.dump(qc_skeleton,file_name)\n",
    "                \n",
    "            path_list, r2s, full_vels, lengths = skel.perform_path_qc(scaled_qc_list, params,**qc_params)\n",
    "            good_full_vels = [full_vels[x] for x in range(len(full_vels)) if r2s[x] > 0.9 and lengths[x]>5]\n",
    "            full_velocities.append(np.mean(np.unique(good_full_vels)))\n",
    "            mean_vel, std_vel = quant.get_sliding_window_velocity(scaled_qc_list,params,window_size=6,min_r2=0.9)\n",
    "            velocity_mean.append(mean_vel)\n",
    "            velocity_std.append(std_vel)\n",
    "            template_size.append(quant.get_simple_template_size(scaled_qc_list))\n",
    "            branch_point_count.append(quant.get_branch_point_count(qc_skeleton))\n",
    "            branch_dists = quant.get_branch_point_dists(qc_skeleton)\n",
    "            branch_dist_mean.append(np.mean(branch_dists))\n",
    "            branch_dist_std.append(np.std(branch_dists))\n",
    "            branch_lengths = quant.get_branch_lengths(scaled_qc_list)\n",
    "            branch_length_mean.append(np.mean(branch_lengths))\n",
    "            branch_length_std.append(np.std(branch_lengths))\n",
    "            longest_axon.append(quant.get_longest_path(qc_skeleton))\n",
    "            terminal_count.append(quant.get_terminal_count(qc_skeleton))\n",
    "            dists = quant.get_projection_dists(qc_skeleton)\n",
    "            projection_dist_mean.append(np.mean(dists))\n",
    "            projection_dist_std.append(np.std(dists))\n",
    "            well_id.append(w)\n",
    "            reg, aav_id = condition_from_well_id(w)\n",
    "            aav.append(aav_id)\n",
    "            age.append(week)\n",
    "            experiment.append(experiment_id)\n",
    "            region.append(reg)\n",
    "            unit_id.append(template_id)\n",
    "            if template_id in responders:\n",
    "                responder.append(1)\n",
    "            elif template_id in non_responders:\n",
    "                responder.append(0)\n",
    "            else:\n",
    "                responder.append(0)\n",
    "                print('template id ' + str(template_id) + ' not found')\n",
    "        except Exception as e:\n",
    "            print(e)"
   ]
  },
  {
   "cell_type": "code",
   "execution_count": null,
   "id": "28739399-c69b-4c90-8ca7-371718c33f82",
   "metadata": {},
   "outputs": [],
   "source": [
    "w = 14\n",
    "stream_id = 'well' + str(w).zfill(3)\n",
    "well_path = os.path.join(root_path, stream_id)\n",
    "responders = np.load(os.path.join(well_path,'good_responders.npy'))\n",
    "non_responders = np.load(os.path.join(well_path,'good_non_responders.npy'))\n",
    "\n",
    "analysis_path = os.path.join(root_path, stream_id, 'analysis')\n",
    "\n",
    "template_ids = np.concatenate((responders,non_responders)).astype('int')\n",
    "template_id = non_responders[7]\n",
    "with open(os.path.join(analysis_path,str(template_id) + '_skel.pkl'),'rb') as file_name:\n",
    "    qc_skeleton = pickle.load(file_name)\n",
    "\n",
    "all_branches = skel.branches_from_paths(qc_skeleton)\n",
    "scaled_qc_list, r2s, vels, lengths = skel.perform_path_qc(all_branches, params,**qc_params)"
   ]
  },
  {
   "cell_type": "code",
   "execution_count": null,
   "id": "76b9d9ad-62f4-4797-a46d-d5f0961a67b3",
   "metadata": {},
   "outputs": [],
   "source": [
    "skeleton = qc_skeleton\n",
    "np.mean(quant.get_projection_dists(skeleton))"
   ]
  },
  {
   "cell_type": "code",
   "execution_count": null,
   "id": "f5cd46fd-6072-473d-883c-bd093d586efc",
   "metadata": {},
   "outputs": [],
   "source": [
    "for w in range(24):\n",
    "    stream_id = 'well' + str(w).zfill(3)\n",
    "    well_path = os.path.join(root_path, stream_id)\n",
    "    if not os.path.exists(os.path.join(well_path,'good_responders.npy')):\n",
    "        continue\n",
    "    responders = np.load(os.path.join(well_path,'good_responders.npy'))\n",
    "    non_responders = np.load(os.path.join(well_path,'good_non_responders.npy'))\n",
    "    \n",
    "    analysis_path = os.path.join(root_path, stream_id, 'analysis')\n",
    "    \n",
    "    template_ids = np.concatenate((responders,non_responders)).astype('int')\n",
    "    for template_id in template_ids:\n",
    "        try:\n",
    "           with open(os.path.join(analysis_path,str(template_id) + '_skel.pkl'),'rb') as file_name:\n",
    "                qc_skeleton = pickle.load(file_name)\n",
    "                \n",
    "            path_list, r2s, full_vels, lengths = skel.perform_path_qc(scaled_qc_list, params,**qc_params)\n",
    "            good_full_vels = [full_vels[x] for x in range(len(full_vels)) if r2s[x] > 0.9 and lengths[x]>5]\n",
    "            full_velocities.append(np.mean(np.unique(good_full_vels)))\n",
    "            mean_vel, std_vel = quant.get_sliding_window_velocity(scaled_qc_list,params,window_size=6,min_r2=0.9)\n",
    "            velocity_mean.append(mean_vel)\n",
    "            velocity_std.append(std_vel)\n",
    "            template_size.append(quant.get_simple_template_size(scaled_qc_list))\n",
    "            branch_point_count.append(quant.get_branch_point_count(qc_skeleton))\n",
    "            branch_dists = quant.get_branch_point_dists(qc_skeleton)\n",
    "            branch_dist_mean.append(np.mean(branch_dists))\n",
    "            branch_dist_std.append(np.std(branch_dists))\n",
    "            branch_lengths = quant.get_branch_lengths(scaled_qc_list)\n",
    "            branch_length_mean.append(np.mean(branch_lengths))\n",
    "            branch_length_std.append(np.std(branch_lengths))\n",
    "            longest_axon.append(quant.get_longest_path(qc_skeleton))\n",
    "            terminal_count.append(quant.get_terminal_count(qc_skeleton))\n",
    "            dists = quant.get_projection_dists(qc_skeleton)\n",
    "            projection_dist_mean.append(np.mean(dists))\n",
    "            projection_dist_std.append(np.std(dists))\n",
    "            well_id.append(w)\n",
    "            reg, aav_id = condition_from_well_id(w)\n",
    "            aav.append(aav_id)\n",
    "            age.append(week)\n",
    "            experiment.append(experiment_id)\n",
    "            region.append(reg)\n",
    "            unit_id.append(template_id)\n",
    "            if template_id in responders:\n",
    "                responder.append(1)\n",
    "            elif template_id in non_responders:\n",
    "                responder.append(0)\n",
    "            else:\n",
    "                responder.append(0)\n",
    "                print('template id ' + str(template_id) + ' not found')\n",
    "        except Exception as e:\n",
    "            print(e)"
   ]
  },
  {
   "cell_type": "code",
   "execution_count": null,
   "id": "666e4681-1caa-4d58-9f51-5c64fdaac28a",
   "metadata": {},
   "outputs": [],
   "source": [
    "data_dict = {}\n",
    "for column_name in column_names[1:]:\n",
    "    data_dict[column_name] = locals()[column_name]"
   ]
  },
  {
   "cell_type": "code",
   "execution_count": null,
   "id": "eab2adaa-6451-416e-bd6d-9d53997619ca",
   "metadata": {},
   "outputs": [],
   "source": [
    "for k in data_dict.keys():\n",
    "    print(k)#, len(data_dict[k]))"
   ]
  },
  {
   "cell_type": "code",
   "execution_count": null,
   "id": "91104886-96aa-441f-b5a1-ae026dc9404a",
   "metadata": {},
   "outputs": [],
   "source": [
    "result_df = pd.DataFrame(data_dict)\n",
    "final_df = result_df.drop_duplicates()"
   ]
  },
  {
   "cell_type": "code",
   "execution_count": null,
   "id": "e6dc83b8-a351-4516-a89b-03cc964fac20",
   "metadata": {},
   "outputs": [],
   "source": [
    "final_df.shape"
   ]
  },
  {
   "cell_type": "code",
   "execution_count": null,
   "id": "41a4e85c-e273-4839-9dea-f00a807aa2f3",
   "metadata": {},
   "outputs": [],
   "source": [
    "final_df.to_pickle('/net/bs-filesvr02/export/group/hierlemann/intermediate_data/Maxtwo/phornauer/Chemogenetics/Low_dose_range/concatenated/new_skel_features.pkl')"
   ]
  },
  {
   "cell_type": "code",
   "execution_count": null,
   "id": "4ca8846d-a279-49f1-8c73-cbb718247784",
   "metadata": {},
   "outputs": [],
   "source": [
    "exp_1 = pd.read_pickle('/net/bs-filesvr02/export/group/hierlemann/intermediate_data/Maxtwo/phornauer/Chemogenetics/Low_dose_range/concatenated/skel_features.pkl')\n",
    "exp_2 = pd.read_pickle('/net/bs-filesvr02/export/group/hierlemann/intermediate_data/Maxtwo/phornauer/Chemogenetics/Large_dose_range/concatenated/skel_features.pkl')\n",
    "#exp_3 = pd.read_pickle('/net/bs-filesvr02/export/group/hierlemann/intermediate_data/Maxtwo/phornauer/Chemogenetics_2/Week_2/concatenated/skel_features.pkl')\n",
    "#exp_4 = pd.read_pickle('/net/bs-filesvr02/export/group/hierlemann/intermediate_data/Maxtwo/phornauer/Chemogenetics_2/Week_3/concatenated/skel_features.pkl')"
   ]
  },
  {
   "cell_type": "code",
   "execution_count": null,
   "id": "697e24d4-f891-4456-aa01-9a87ff333b93",
   "metadata": {},
   "outputs": [],
   "source": [
    "full = pd.concat((exp_1,exp_2))#,exp_3,exp_4))\n",
    "full.drop_duplicates(inplace=True)"
   ]
  },
  {
   "cell_type": "code",
   "execution_count": null,
   "id": "6108c5fb-2f50-48b7-8b90-01062bad3c2d",
   "metadata": {},
   "outputs": [],
   "source": [
    "sel_df = full.query('aav<129 and region==1')\n",
    "sel_df = full.query('aav<129 and region==1 and experiment==1')"
   ]
  },
  {
   "cell_type": "code",
   "execution_count": null,
   "id": "8ad358fa-5b03-42b0-8463-6a8c5ee75430",
   "metadata": {},
   "outputs": [],
   "source": [
    "sel_df.columns"
   ]
  },
  {
   "cell_type": "code",
   "execution_count": null,
   "id": "ef477ced-e607-4c20-ae6f-4bc283ecd26e",
   "metadata": {},
   "outputs": [],
   "source": [
    "import matplotlib as mpl\n",
    "cmap = mpl.cm.get_cmap('viridis',10)"
   ]
  },
  {
   "cell_type": "code",
   "execution_count": null,
   "id": "1b67f7e8-d38a-4f3b-92db-d6074cc72583",
   "metadata": {},
   "outputs": [],
   "source": [
    "numpy_df = sel_df.to_records(index=False)"
   ]
  },
  {
   "cell_type": "code",
   "execution_count": null,
   "id": "66ff21c1-4234-4f6c-bc7e-abdc01a8d809",
   "metadata": {},
   "outputs": [],
   "source": [
    "np.save('/net/bs-filesvr02/export/group/hierlemann/intermediate_data/Maxtwo/phornauer/Chemogenetics/Large_dose_range/concatenated/skel_features.npy', numpy_df)"
   ]
  },
  {
   "cell_type": "code",
   "execution_count": null,
   "id": "9003c522-dd75-4e36-bf8b-6edbf33b0dee",
   "metadata": {},
   "outputs": [],
   "source": [
    "from scipy.io import savemat\n",
    "savemat('/net/bs-filesvr02/export/group/hierlemann/intermediate_data/Maxtwo/phornauer/Chemogenetics/Large_dose_range/concatenated/skel_features.mat', {\"data\":numpy_df})"
   ]
  },
  {
   "cell_type": "code",
   "execution_count": null,
   "id": "edabdfc2-0f32-4cae-bf1b-b8aeb0545580",
   "metadata": {},
   "outputs": [],
   "source": [
    "g = sns.violinplot(data=sel_df,x=\"aav\",y=\"projection_dist_mean\",hue=\"responder\",saturation=1,split=True,gap=.05,palette=cmap([2,8]),density_norm=\"area\",bw_adjust=0.8,\n",
    "                   inner_kws=dict(box_width=5,color=\"0.3\"))\n",
    "plt.xticks(ticks=[0,1],labels=[\"Control\", \"AAV\"])\n",
    "plt.ylabel(\"Mean projection distance\")\n",
    "plt.xlabel(\"\")\n",
    "#plt.box(False)\n",
    "plt.legend(title=\"Putative cell type\", labels=[\"EXC\",\"_\",\"_\",\"_\",\"INH\"],frameon=False,loc=\"upper left\")\n",
    "plt.show()"
   ]
  },
  {
   "cell_type": "code",
   "execution_count": null,
   "id": "93a31984-616e-4caa-bd09-24b4f1c4b3ac",
   "metadata": {},
   "outputs": [],
   "source": [
    "#g = sns.violinplot(data=sel_df,x=\"aav\",y=\"template_size\",hue=\"responder\",saturation=0.5,split=True,gap=.1,density_norm=\"count\",bw_adjust=0.8)\n",
    "g = sns.violinplot(data=sel_df,x=\"aav\",y=\"template_size\",saturation=0.5,density_norm=\"area\",bw_adjust=0.8)\n",
    "plt.xticks(ticks=[0,1],labels=[\"Control\", \"AAV\"])\n",
    "plt.ylabel(\"Skeleton size (#electrodes)\")\n",
    "plt.xlabel(\"\")\n",
    "#plt.legend(title=\"Putative cell type\", labels=[\"EXC\",\"_\",\"_\",\"_\",\"INH\"],frameon=False,loc=\"upper left\")\n",
    "plt.show()"
   ]
  },
  {
   "cell_type": "code",
   "execution_count": null,
   "id": "5cf056e6-a353-4ca5-97a9-0e0676c7cce5",
   "metadata": {},
   "outputs": [],
   "source": [
    "g = sns.violinplot(data=sel_df,x=\"aav\",y=\"terminal_count\",hue=\"responder\",saturation=0.5,split=True,gap=.1,density_norm=\"count\",bw_adjust=0.8)\n",
    "plt.xticks(ticks=[0,1],labels=[\"Control\", \"AAV\"])\n",
    "plt.ylabel(\"Terminal count\")\n",
    "plt.xlabel(\"\")\n",
    "plt.legend(title=\"Putative cell type\", labels=[\"EXC\",\"_\",\"_\",\"_\",\"INH\"],frameon=False,loc=\"upper left\")\n",
    "plt.show()"
   ]
  },
  {
   "cell_type": "code",
   "execution_count": null,
   "id": "df29d1bf-21ee-4220-9080-7279aea96e24",
   "metadata": {},
   "outputs": [],
   "source": [
    "g = sns.catplot(data=sel_df,x=\"aav\",y=\"template_size\",hue=\"responder\",saturation=0.5,split=True,density_norm=\"count\",inner=None, kind=\"violin\")\n",
    "sns.swarmplot(data=sel_df, x=\"aav\", y=\"template_size\", hue=\"responder\", size=4, edgecolor='k',linewidth=0.5,ax=g.ax)"
   ]
  },
  {
   "cell_type": "code",
   "execution_count": null,
   "id": "07ba8f44-36a4-4ab3-b2f3-ada22e747b60",
   "metadata": {},
   "outputs": [],
   "source": [
    "qc_skeleton.vertices[qc_skeleton.terminals(),:2]"
   ]
  },
  {
   "cell_type": "code",
   "execution_count": null,
   "id": "7a12d507-6e9a-46c7-a1d1-3d9d79bd3264",
   "metadata": {},
   "outputs": [],
   "source": [
    "qc_skeleton, scaled_qc_list = skel.full_skeletonization(root_path, stream_id, template_id, params, skel_params, qc_params)"
   ]
  },
  {
   "cell_type": "code",
   "execution_count": null,
   "id": "5e091ce8-6651-4cd2-87d0-9330cfdf472c",
   "metadata": {},
   "outputs": [],
   "source": [
    "path_list, r2s, full_vels, lengths = skel.perform_path_qc(scaled_qc_list, params,**qc_params)"
   ]
  },
  {
   "cell_type": "code",
   "execution_count": null,
   "id": "9b1d0a8e-817b-4727-9599-5c476f9c6ca7",
   "metadata": {},
   "outputs": [],
   "source": [
    "len(scaled_qc_list)"
   ]
  },
  {
   "cell_type": "code",
   "execution_count": null,
   "id": "70b66c14-eb81-45df-af2a-9504a6a66cff",
   "metadata": {},
   "outputs": [],
   "source": [
    "good_full_vels = [full_vels[x] for x in range(len(full_vels)) if r2s[x] > 0.9 and lengths[x]>5]\n",
    "np.mean(np.unique(good_full_vels))"
   ]
  },
  {
   "cell_type": "code",
   "execution_count": null,
   "id": "88385578-4ec8-402b-a3be-99f99f84493d",
   "metadata": {},
   "outputs": [],
   "source": [
    "mean_vel, std_vel = quant.get_sliding_window_velocity(scaled_qc_list,params,window_size=6,min_r2=0.9)\n",
    "std_vel"
   ]
  },
  {
   "cell_type": "code",
   "execution_count": null,
   "id": "983b7987-9780-487d-be77-3cf665355d9e",
   "metadata": {},
   "outputs": [],
   "source": [
    "temp_size = quant.get_simple_template_size(scaled_qc_list)\n",
    "template_size"
   ]
  },
  {
   "cell_type": "code",
   "execution_count": null,
   "id": "2cf44c52-a0fd-471a-b61b-81ba7ea12657",
   "metadata": {},
   "outputs": [],
   "source": [
    "branch_points = quant.get_branch_point_count(qc_skeleton)\n",
    "branch_points"
   ]
  },
  {
   "cell_type": "code",
   "execution_count": null,
   "id": "d9c11d50-6179-4609-b447-a832a4eb5619",
   "metadata": {},
   "outputs": [],
   "source": [
    "branch_dists = quant.get_branch_point_dists(qc_skeleton)\n",
    "np.mean(branch_dists)"
   ]
  },
  {
   "cell_type": "code",
   "execution_count": null,
   "id": "f3a66fb5-e87b-4f1d-af3d-904f70c01d9a",
   "metadata": {},
   "outputs": [],
   "source": [
    "branch_lengths = quant.get_branch_lengths(scaled_qc_list)\n",
    "np.mean(branch_lengths)"
   ]
  },
  {
   "cell_type": "code",
   "execution_count": null,
   "id": "243a54a8-f439-4011-a842-825a3c92881d",
   "metadata": {},
   "outputs": [],
   "source": [
    "longest_path = quant.get_longest_path(qc_skeleton)\n",
    "longest_path"
   ]
  },
  {
   "cell_type": "code",
   "execution_count": null,
   "id": "5ae62e42-4921-4b6a-a509-26fab03078f8",
   "metadata": {},
   "outputs": [],
   "source": [
    "terminal_count = quant.get_terminal_count(qc_skeleton)"
   ]
  },
  {
   "cell_type": "code",
   "execution_count": null,
   "id": "c311731c-2156-40a1-8755-5b315bc2e76b",
   "metadata": {},
   "outputs": [],
   "source": [
    "dists = quant.get_projection_dists(skeleton)\n",
    "dists"
   ]
  },
  {
   "cell_type": "code",
   "execution_count": null,
   "id": "60648da9-2dd0-4c9d-b94b-324e8dc1b2d9",
   "metadata": {},
   "outputs": [],
   "source": [
    "vis.plot_delay_contour(capped_template,qc_skeleton,params,skel_params,radius=5,save_path=[])"
   ]
  },
  {
   "cell_type": "code",
   "execution_count": null,
   "id": "46aa0edb-bb13-481e-9459-bf747e6c338a",
   "metadata": {},
   "outputs": [],
   "source": [
    "vis.plot_filled_contour(capped_template,qc_skeleton,params,radius=5,save_path=[])"
   ]
  }
 ],
 "metadata": {
  "language_info": {
   "name": "python"
  }
 },
 "nbformat": 4,
 "nbformat_minor": 5
}
