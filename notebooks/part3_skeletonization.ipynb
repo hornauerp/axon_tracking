{
 "cells": [
  {
   "cell_type": "code",
   "execution_count": null,
   "id": "a16d47ab-2fab-4c1e-a52f-5c2834410497",
   "metadata": {},
   "outputs": [],
   "source": [
    "%load_ext autoreload\n",
    "%autoreload 2\n",
    "%matplotlib widget"
   ]
  },
  {
   "cell_type": "code",
   "execution_count": null,
   "id": "1937cba4-adcc-4190-92e3-c27452f11334",
   "metadata": {},
   "outputs": [],
   "source": [
    "import os,sys, kimimaro\n",
    "import numpy as np\n",
    "from skimage.morphology import disk, ball, square\n",
    "import scipy.ndimage as nd\n",
    "import matplotlib.pyplot as plt\n",
    "import matplotlib.animation as anim\n",
    "from IPython.display import HTML\n",
    "\n",
    "sys.path.append(\"/home/phornauer/Git/axon_tracking/\")\n",
    "from axon_tracking import skeletonization as skel"
   ]
  },
  {
   "cell_type": "code",
   "execution_count": null,
   "id": "6208a599-b88c-4f6f-af45-3a4652a6a645",
   "metadata": {},
   "outputs": [],
   "source": [
    "root_path = '/net/bs-filesvr02/export/group/hierlemann/intermediate_data/Maxtwo/phornauer/iNeurons/230817/T002443/AxonTracking/'\n",
    "stream_id = 'well006'\n",
    "template_id = 262\n",
    "\n",
    "template = skel.load_template_file(root_path, stream_id, template_id)"
   ]
  },
  {
   "cell_type": "code",
   "execution_count": null,
   "id": "42a79b0c-8790-4617-9324-a38f37eaa76f",
   "metadata": {},
   "outputs": [],
   "source": [
    "root_path = \"/net/bs-filesvr02/export/group/hierlemann/intermediate_data/Maxtwo/phornauer/iNeurons/230731/T002443/AxonTracking/\"\n",
    "stream_id = 'well009'\n",
    "template_id = 189\n",
    "template = skel.load_template_file(root_path, stream_id, template_id)"
   ]
  },
  {
   "cell_type": "code",
   "execution_count": null,
   "id": "cb371f95-3379-4ff4-90dc-e716c3b129b2",
   "metadata": {},
   "outputs": [],
   "source": [
    "root_path = '/net/bs-filesvr02/export/group/hierlemann/intermediate_data/Maxtwo/phornauer/GNM24/230511/T002441/AxonTracking/'\n",
    "stream_id = 'well007'\n",
    "template_id = 12\n",
    "\n",
    "template = skel.load_template_file(root_path, stream_id, template_id)"
   ]
  },
  {
   "cell_type": "code",
   "execution_count": null,
   "id": "526a5655-0c25-4a66-aa71-af235f2e6edf",
   "metadata": {},
   "outputs": [],
   "source": [
    "dilation_params = dict()\n",
    "dilation_params['r_dilation'] = 2 #Distance in electrodes to detect new peaks\n",
    "dilation_params['init_th'] = -5 #Minimum peak amplitude to be a seed point (initial detection)\n",
    "dilation_params['min_th'] = -0.2 #Minimum peak amplitude to be eligible for peak detection\n",
    "dilation_params['filter_footprint'] = np.ones((3,3,2)) #Median filter footprint (x*y*time)\n",
    "dilation_params['use_derivative'] = False #Use derivative of template for detection"
   ]
  },
  {
   "cell_type": "code",
   "execution_count": null,
   "id": "1e51beac-aeae-415a-beb3-e1eb597e9201",
   "metadata": {},
   "outputs": [],
   "source": [
    "capped_matrix, target_coor, post_coor = skel.localize_neurons(template, ms_cutout=[1.5, 5.0])"
   ]
  },
  {
   "cell_type": "code",
   "execution_count": null,
   "id": "dc231e3d-c4f8-4aee-96d3-dc8fd36ce562",
   "metadata": {},
   "outputs": [],
   "source": [
    "input_mat = template\n",
    "v_min = -5\n",
    "v_max = 0\n",
    "\n",
    "tmp_filt = nd.median_filter(input_mat,footprint=ball(1))#size=(3,3,2))"
   ]
  },
  {
   "cell_type": "code",
   "execution_count": null,
   "id": "91a3d683-c459-4395-ac35-564e07cbdd6c",
   "metadata": {},
   "outputs": [],
   "source": [
    "#tmp_filt = nd.median_filter(template,footprint=ball(1))\n",
    "#tmp_filt = nd.rank_filter(template,rank=-26,footprint=ball(2))\n",
    "\n",
    "\n",
    "#tmp_filt = nd.percentile_filter(input_mat,percentile=20,footprint=ball(2))\n",
    "fig, axes = plt.subplots(1,2)\n",
    "plt.subplot(121)\n",
    "plt.imshow(np.min(input_mat,axis=2).T,vmin=v_min, vmax=v_max)\n",
    "\n",
    "ax = plt.subplot(122)\n",
    "im = plt.imshow(np.min(tmp_filt,axis=2).T,vmin=v_min, vmax=v_max)\n",
    "#fig.colorbar(im, ax=axes.ravel().tolist(),shrink =0.275, label=\"Amplitude [uV]\")\n",
    "\n",
    "plt.show()"
   ]
  },
  {
   "cell_type": "code",
   "execution_count": null,
   "id": "ed578dc6-7b5d-4cea-9e6b-737df015c6c7",
   "metadata": {},
   "outputs": [],
   "source": [
    "tmp_interp = skel.interpolate_template(tmp_filt,spacing=1/2)"
   ]
  },
  {
   "cell_type": "code",
   "execution_count": null,
   "id": "784cd583-e08d-4c99-a325-6063f1155ede",
   "metadata": {},
   "outputs": [],
   "source": [
    "ani = skel.generate_propagation_gif(tmp_interp,downsample=1,clim=[-10,0])"
   ]
  },
  {
   "cell_type": "code",
   "execution_count": null,
   "id": "5d145b53-3d10-4845-8062-e24eafba1772",
   "metadata": {},
   "outputs": [],
   "source": [
    "ani.save(\"/home/phornauer/neuron+skeleton.gif\")"
   ]
  },
  {
   "cell_type": "code",
   "execution_count": null,
   "id": "03a8560e-9857-40bd-9432-1c54c59c9b33",
   "metadata": {},
   "outputs": [],
   "source": [
    "#tmp_filt = nd.percentile_filter(template,percentile=20,footprint=ball(2))\n",
    "filtered = skel.iterative_dilation(tmp_interp, **dilation_params)"
   ]
  },
  {
   "cell_type": "code",
   "execution_count": null,
   "id": "faa4112c-1f6c-4531-9c00-9005548a3e77",
   "metadata": {},
   "outputs": [],
   "source": [
    "dil_idx = np.argwhere(filtered)\n",
    "\n",
    "x = dil_idx[:,0]\n",
    "y = dil_idx[:,1]\n",
    "z = dil_idx[:,2]\n",
    "fig = plt.figure(figsize=(8,4))\n",
    "#vals = capped_input[tuple(dil_idx.T)]\n",
    "im = plt.scatter(x,tmp_interp.shape[1]-y,s=5,c=z,cmap=\"magma\")\n",
    "fig.colorbar(im,label=\"Peak latency [ms]\")\n",
    "plt.xlim([0, tmp_interp.shape[0]])\n",
    "plt.ylim([0, tmp_interp.shape[1]])\n",
    "plt.show()"
   ]
  },
  {
   "cell_type": "code",
   "execution_count": null,
   "id": "eef0d668-70f7-434d-836f-274193d743c5",
   "metadata": {},
   "outputs": [],
   "source": [
    "fig = plt.figure(figsize=(8,4))\n",
    "ax = fig.add_subplot(projection='3d')\n",
    "im = ax.scatter3D(x,y,z,s=5,c=z,cmap=\"viridis\")\n",
    "ax.view_init(10,40)\n",
    "plt.xlim([0, 220])\n",
    "plt.ylim([0, 120])\n",
    "plt.xlabel(\"x\")\n",
    "plt.ylabel(\"y\")\n",
    "plt.colorbar(im, label=\"Peak latency [ms]\",shrink=0.7)\n",
    "plt.show()"
   ]
  },
  {
   "cell_type": "code",
   "execution_count": null,
   "id": "d6195d5b-f283-45b9-8fe6-e50d8f8eb67b",
   "metadata": {},
   "outputs": [],
   "source": [
    "skel_params = dict()\n",
    "skel_params['scale'] = 0.5\n",
    "skel_params['const'] = 15\n",
    "skel_params['pdrf_exponent'] = 4\n",
    "skel_params['pdrf_scale'] = 10\n",
    "skel_params['dust_threshold'] = 100\n",
    "skel_params['anisotropy'] = (10.0, 10.0, 10.0)\n",
    "skel_params['tick_threshold'] = 10\n",
    "\n",
    "skels = skel.skeletonize(filtered, **skel_params)\n",
    "skeleton = skels[1]\n",
    "#skeleton = kimimaro.join_close_components(skels[1], radius=1000)\n",
    "\n",
    "fig = plt.figure(figsize=(8,4))\n",
    "x,y,z = [skeleton.vertices[:,x] for x in range(3)]\n",
    "im = plt.scatter(x,tmp_interp.shape[1]-y,c=z,s=5,cmap=\"coolwarm\")\n",
    "fig.colorbar(im, label='Peak latency [samples]')\n",
    "#plt.scatter(target_coor[0],target_coor[1],c=z[target_coor[2]],s=100)\n",
    "plt.xlim([0, tmp_interp.shape[0]])\n",
    "plt.ylim([0, tmp_interp.shape[1]])\n",
    "plt.show()"
   ]
  },
  {
   "cell_type": "code",
   "execution_count": null,
   "id": "aeb9a2f3-4f35-4467-832f-3f5ac6e9ba68",
   "metadata": {},
   "outputs": [],
   "source": [
    "skeleton"
   ]
  },
  {
   "cell_type": "code",
   "execution_count": null,
   "id": "738d013d-65f7-4f30-9e59-6bbb46a6890a",
   "metadata": {},
   "outputs": [],
   "source": [
    "ani = skel.generate_propagation_gif(tmp_interp, cumulative=False, skeleton = skeleton, downsample=2, clim=[-5, 0], cmap=\"Greys\")"
   ]
  },
  {
   "cell_type": "code",
   "execution_count": null,
   "id": "cb3a2022-1a24-45d2-9da8-3f7defc0e46a",
   "metadata": {},
   "outputs": [],
   "source": [
    "HTML(ani.to_jshtml())"
   ]
  },
  {
   "cell_type": "code",
   "execution_count": null,
   "id": "0f457008-8799-4e36-8972-76a6750c9475",
   "metadata": {},
   "outputs": [],
   "source": [
    "fig = plt.figure(figsize=(10,10))\n",
    "ax = fig.add_subplot(projection='3d')\n",
    "ax.scatter3D(x,y,z,s=10,c=z,cmap=\"magma\")\n",
    "#ax.scatter3D(target_coor[0],target_coor[1],target_coor[2],s=100)\n",
    "ax.view_init(0,140)\n",
    "ax.set\n",
    "plt.xlim([0,220])\n",
    "plt.ylim([0,120])\n",
    "\n",
    "plt.show()"
   ]
  },
  {
   "cell_type": "code",
   "execution_count": null,
   "id": "46b234f3-a4d1-4e03-86d2-0b47da7e462f",
   "metadata": {},
   "outputs": [],
   "source": [
    "source = skeleton.vertices[skeleton.edges[:,0],0:2]\n",
    "target = skeleton.vertices[skeleton.edges[:,1],0:2]\n",
    "segs = [np.vstack((source[x], target[x])) for x in range(source.shape[0])]"
   ]
  },
  {
   "cell_type": "code",
   "execution_count": null,
   "id": "b6c9800e-9535-46ad-aeaf-c5dab8e5c929",
   "metadata": {},
   "outputs": [],
   "source": [
    "from matplotlib.collections import LineCollection\n",
    "fig, ax = plt.subplots()\n",
    "ax.set_xlim(0, 220)\n",
    "ax.set_ylim(0, 120)\n",
    "line_segments = LineCollection(segs, linestyle='solid',colors=[0,0,0])\n",
    "ax.add_collection(line_segments)\n",
    "plt.scatter(x,y,c=z,s=6,cmap=\"magma\")\n",
    "plt.show()"
   ]
  },
  {
   "cell_type": "code",
   "execution_count": null,
   "id": "91363588-fbed-4b29-beab-9f13e40b919d",
   "metadata": {},
   "outputs": [],
   "source": []
  }
 ],
 "metadata": {
  "language_info": {
   "name": "python"
  }
 },
 "nbformat": 4,
 "nbformat_minor": 5
}
