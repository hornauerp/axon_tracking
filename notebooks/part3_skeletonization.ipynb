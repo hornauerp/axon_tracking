{
 "cells": [
  {
   "cell_type": "code",
   "execution_count": null,
   "id": "a0dbd522-f9eb-4a07-815c-b2812a574383",
   "metadata": {},
   "outputs": [],
   "source": [
    "%load_ext autoreload\n",
    "%autoreload 2\n",
    "%matplotlib inline"
   ]
  },
  {
   "cell_type": "code",
   "execution_count": null,
   "id": "7210a826-f7dd-480e-9842-caf8eaf2eb4c",
   "metadata": {},
   "outputs": [],
   "source": [
    "import os,sys, kimimaro\n",
    "import numpy as np\n",
    "from skimage.morphology import disk, ball, square\n",
    "import scipy.ndimage as nd\n",
    "import scipy.signal as sig\n",
    "import matplotlib.pyplot as plt\n",
    "import matplotlib.animation as anim\n",
    "import cloudvolume as cv\n",
    "from IPython.display import HTML\n",
    "from matplotlib.collections import LineCollection\n",
    "\n",
    "sys.path.append(\"/home/phornauer/Git/axon_tracking/\")\n",
    "import axon_tracking.skeletonization as skel\n",
    "import axon_tracking.template_extraction as te\n",
    "import axon_tracking.visualization as vis"
   ]
  },
  {
   "cell_type": "code",
   "execution_count": null,
   "id": "d355a47c-2fe1-4cfb-aa7d-95dfb40e823a",
   "metadata": {},
   "outputs": [],
   "source": [
    "params = dict()\n",
    "params['noise_threshold'] = -1.5\n",
    "params['abs_threshold'] = -0.2\n",
    "params['upsample'] = [1,1,1]\n",
    "params['sampling_rate'] = 20000/params['upsample'][2] # [Hz]\n",
    "params['ms_cutout'] = [1.5, 5.0]\n",
    "params['filter_footprint'] = ball(1)#np.ones((2,2,3))\n",
    "params['max_velocity'] = 1 # [m/s]\n",
    "params['max_noise_level'] = 0.25"
   ]
  },
  {
   "cell_type": "code",
   "execution_count": null,
   "id": "c325b7dd-9de3-42c2-8f3a-59c9231ed695",
   "metadata": {},
   "outputs": [],
   "source": [
    "root_path = '/net/bs-filesvr02/export/group/hierlemann/intermediate_data/Maxtwo/phornauer/Chemogenetics/Large_dose_range/concatenated/'\n",
    "#root_path = '/net/bs-filesvr02/export/group/hierlemann/intermediate_data/Maxtwo/phornauer/Chemogenetics_2/Week_3/concatenated/'\n",
    "stream_id = 'well007'"
   ]
  },
  {
   "cell_type": "code",
   "execution_count": null,
   "id": "144d37a1-7304-4621-af47-4d20d3a06c40",
   "metadata": {},
   "outputs": [],
   "source": [
    "vis.plot_template_overview(root_path, stream_id, params, n_cols = 3, vmin=-10, vmax=0, filename='test',unit_ids= [],overwrite=False)"
   ]
  },
  {
   "cell_type": "code",
   "execution_count": null,
   "id": "a4008e66-e0c9-4961-b203-118121cf3dcb",
   "metadata": {},
   "outputs": [],
   "source": [
    "np.mean(noise)"
   ]
  },
  {
   "cell_type": "code",
   "execution_count": null,
   "id": "99fd12c2-a495-411c-828e-480d076afbd3",
   "metadata": {},
   "outputs": [],
   "source": [
    "np.min(capped_template)"
   ]
  },
  {
   "cell_type": "code",
   "execution_count": null,
   "id": "9c7d393c-5bc7-4ad0-afa8-9801d58efdb3",
   "metadata": {},
   "outputs": [],
   "source": [
    "root_path = '/net/bs-filesvr02/export/group/hierlemann/intermediate_data/Maxtwo/phornauer/Chemogenetics/Large_dose_range/concatenated/'\n",
    "#root_path = '/net/bs-filesvr02/export/group/hierlemann/intermediate_data/Maxtwo/phornauer/Chemogenetics_2/Week_3/concatenated/'\n",
    "stream_id = 'well014'\n",
    "template_id = 81\n",
    "template, template_save_file, noise = skel.load_template_file(root_path, stream_id, template_id)\n",
    "temp_diff = np.diff(template)\n",
    "capped_template, target_coor= skel.localize_neurons(temp_diff, ms_cutout=params['ms_cutout'])\n",
    "\n",
    "#tmp_filt = nd.median_filter(capped_template,footprint=params['filter_footprint'])\n",
    "tmp_filt = nd.gaussian_filter(capped_template,sigma=1)\n",
    "\n",
    "interp_temp = skel.interpolate_template(tmp_filt,spacing=params['upsample'])\n",
    "th_template = skel.threshold_template(interp_temp, noise, target_coor, params)\n",
    "\n",
    "vis.plot_template_and_noise(tmp_filt,noise,th_template)"
   ]
  },
  {
   "cell_type": "code",
   "execution_count": null,
   "id": "e422771a-0199-416f-8fd1-fc40df834069",
   "metadata": {},
   "outputs": [],
   "source": [
    "skel_params = dict()\n",
    "skel_params['scale'] = 1#1\n",
    "skel_params['const'] = 2#3\n",
    "skel_params['dust_threshold'] = 5\n",
    "skel_params['anisotropy'] = (10.0, 10.0, 10.0)\n",
    "skel_params['tick_threshold'] = 5\n",
    "skel_params['n_jobs'] = 16"
   ]
  },
  {
   "cell_type": "code",
   "execution_count": null,
   "id": "85f1e09d-5907-40b0-8342-bd0732c879e4",
   "metadata": {},
   "outputs": [],
   "source": [
    "t_cap = [0, th_template.shape[2]] #in samples\n",
    "skels = skel.skeletonize(th_template[:,:,t_cap[0]:t_cap[1]].astype('bool'), **skel_params)\n",
    "\n",
    "skeleton = kimimaro.join_close_components(skels[1], radius=10)\n",
    "\n",
    "skeleton = kimimaro.postprocess(skeleton, tick_threshold=5, dust_threshold=10)\n",
    "\n",
    "skeleton = kimimaro.join_close_components(skeleton, radius=20)\n",
    "\n",
    "#skeleton = kimimaro.postprocess(skeleton, tick_threshold=5, dust_threshold=100)\n",
    "\n",
    "skeleton = skeleton.consolidate()\n",
    "skel_paths = cv.Skeleton.paths(skeleton)"
   ]
  },
  {
   "cell_type": "code",
   "execution_count": null,
   "id": "f157aa0f-cb30-48e2-ac8c-c3dbc915d62e",
   "metadata": {},
   "outputs": [],
   "source": [
    "vis.plot_delay_skeleton(skel_paths, params, skel_params,figsize=4, plot_ais=False, plot_ais_connection=False)"
   ]
  },
  {
   "cell_type": "code",
   "execution_count": null,
   "id": "eebba012-6830-414e-bcd7-f58a45009941",
   "metadata": {},
   "outputs": [],
   "source": [
    "x,y,z = vis.plot_skeleton(skeleton, marker_size=3,fig_size=4,ais=[])"
   ]
  },
  {
   "cell_type": "code",
   "execution_count": null,
   "id": "d82d9a80-ad48-4d90-80a1-0e1558fa7ea3",
   "metadata": {},
   "outputs": [],
   "source": [
    "qc_params = dict()\n",
    "qc_params['window_size'] = 5\n",
    "qc_params['max_duplicate_ratio'] = 0.3\n",
    "qc_params['min_r2'] = 0.8\n",
    "qc_params['vel_range'] = [0.2, 0.8]\n",
    "qc_params['min_length'] = 1"
   ]
  },
  {
   "cell_type": "code",
   "execution_count": null,
   "id": "54de0e71-c8d7-4a5a-9e51-7d5d008caf42",
   "metadata": {},
   "outputs": [],
   "source": [
    "all_branches = skel.branches_from_paths(skeleton)\n",
    "scaled_qc_list, r2s, vels, lengths = skel.perform_path_qc(all_branches, params,**qc_params)"
   ]
  },
  {
   "cell_type": "code",
   "execution_count": null,
   "id": "f2b1e7f4-4101-4372-88f2-be2c69bedffb",
   "metadata": {},
   "outputs": [],
   "source": [
    "vis.plot_conduction_velocity(scaled_qc_list,params)"
   ]
  },
  {
   "cell_type": "code",
   "execution_count": null,
   "id": "8c50b302-5e7f-4563-95d8-687de979b786",
   "metadata": {},
   "outputs": [],
   "source": [
    "vis.plot_velocity_qc(vels,r2s,fig_size=(6,2))"
   ]
  },
  {
   "cell_type": "code",
   "execution_count": null,
   "id": "85ff23a2-4159-4c0f-8dcc-635441ee5d0c",
   "metadata": {},
   "outputs": [],
   "source": [
    "vis.plot_delay_skeleton(scaled_qc_list, params, skel_params,figsize=4, plot_ais=False, plot_ais_connection=False)"
   ]
  },
  {
   "cell_type": "code",
   "execution_count": null,
   "id": "525d2080-0f21-46be-8ee8-ca827183928d",
   "metadata": {},
   "outputs": [],
   "source": [
    "test_skels = [skeleton.from_path(x) for x in scaled_qc_list]"
   ]
  },
  {
   "cell_type": "code",
   "execution_count": null,
   "id": "ea55d511-7a15-4fc6-91b1-6648d8d52475",
   "metadata": {},
   "outputs": [],
   "source": [
    "test_skeleton = skeleton.simple_merge(test_skels)\n",
    "test_skeleton = kimimaro.join_close_components(test_skeleton,radius=100)\n",
    "test_skeleton = kimimaro.postprocess(test_skeleton, dust_threshold=500, tick_threshold=10)\n",
    "test_skeleton = test_skeleton.consolidate()"
   ]
  },
  {
   "cell_type": "code",
   "execution_count": null,
   "id": "3f073e13-8457-4741-a1f6-37431ac54f61",
   "metadata": {},
   "outputs": [],
   "source": [
    "vis.plot_delay_skeleton(test_skeleton.paths(), params, skel_params,figsize=4, plot_ais=False, plot_ais_connection=False)"
   ]
  },
  {
   "cell_type": "code",
   "execution_count": null,
   "id": "5a6d9626-5b6d-4b38-97d1-6b92c3221371",
   "metadata": {},
   "outputs": [],
   "source": [
    "all_branches = skel.branches_from_paths(test_skeleton)\n",
    "scaled_qc_list, r2s, vels, lengths = skel.perform_path_qc(all_branches, params,**qc_params)"
   ]
  },
  {
   "cell_type": "code",
   "execution_count": null,
   "id": "50108db9-0a55-41ea-bd98-b1dd5b013a57",
   "metadata": {},
   "outputs": [],
   "source": [
    "vis.plot_velocity_qc(vels,r2s,fig_size=(6,2))"
   ]
  },
  {
   "cell_type": "code",
   "execution_count": null,
   "id": "ae2187a9-b682-4d97-a721-cf88f7be5bb8",
   "metadata": {},
   "outputs": [],
   "source": [
    "[vels[x] for x in range(len(vels)) if r2s[x] >0.8]"
   ]
  },
  {
   "cell_type": "code",
   "execution_count": null,
   "id": "d5c00b8f-0c10-40bf-b00e-cad97812a2ec",
   "metadata": {},
   "outputs": [],
   "source": [
    "ani = vis.generate_propagation_gif(interp_temp, cumulative=False, vertices=[], downsample=2, clim=[-2, -0.15], cmap=\"Greys\", marker_size=0.1)"
   ]
  },
  {
   "cell_type": "code",
   "execution_count": null,
   "id": "ceb7adb7-3118-4c40-b097-5df64a8aef1e",
   "metadata": {},
   "outputs": [],
   "source": [
    "HTML(ani.to_jshtml())"
   ]
  },
  {
   "cell_type": "code",
   "execution_count": null,
   "id": "74c78dc7-0771-4330-96be-e7246b646113",
   "metadata": {},
   "outputs": [],
   "source": [
    "save_path = os.path.join(root_path,stream_id,str(template_id)+'_delay.png')\n",
    "vis.plot_delay_contour(capped_template,test_skeleton,params,skel_params,radius=5,save_path=save_path)"
   ]
  },
  {
   "cell_type": "code",
   "execution_count": null,
   "id": "629afd29-41a9-4172-b22f-4e56bd78a72e",
   "metadata": {},
   "outputs": [],
   "source": [
    "save_path = os.path.join(root_path,stream_id,str(template_id)+'.png')\n",
    "save_path"
   ]
  },
  {
   "cell_type": "code",
   "execution_count": null,
   "id": "ace7d5dc-3a05-41b7-941e-55295b3d5ded",
   "metadata": {},
   "outputs": [],
   "source": [
    "vis.plot_filled_contour(capped_template,test_skeleton,params,radius=5,save_path=save_path)"
   ]
  },
  {
   "cell_type": "code",
   "execution_count": null,
   "id": "d1ead2d6-8347-4a0a-81ab-025b5d1309a4",
   "metadata": {},
   "outputs": [],
   "source": [
    "interp_tmp = skel.interpolate_template(capped_template,spacing=params['upsample'])"
   ]
  },
  {
   "cell_type": "code",
   "execution_count": null,
   "id": "00c8784c-a225-43f0-9383-8e75cf5774e5",
   "metadata": {},
   "outputs": [],
   "source": [
    "sorted_vertices = skel.path_to_vertices(skel.scale_path_coordinates(test_skeleton.paths()))"
   ]
  },
  {
   "cell_type": "code",
   "execution_count": null,
   "id": "8e64b025-4247-4527-b0b7-49be34b93941",
   "metadata": {},
   "outputs": [],
   "source": [
    "sorted_vertices = skel.path_to_vertices(test_skeleton.paths())"
   ]
  },
  {
   "cell_type": "code",
   "execution_count": null,
   "id": "17b7b7c6-9d2a-4d24-8728-98c7f3cdb08d",
   "metadata": {},
   "outputs": [],
   "source": [
    "skel_mat = np.zeros(interp_tmp.shape)\n",
    "skel_mat[tuple(sorted_vertices.astype('int').T)] = True"
   ]
  },
  {
   "cell_type": "code",
   "execution_count": null,
   "id": "bbc36a4f-65ba-412c-b12b-0c3a721af2e5",
   "metadata": {},
   "outputs": [],
   "source": [
    "dil_mat = nd.binary_dilation(skel_mat,structure=ball(10))\n",
    "th_data = (interp_tmp * dil_mat)#[:,:,t_cap[0]:t_cap[1]]\n",
    "contour_data = np.abs(np.min(th_data,axis=2).T)\n",
    "#contourf_lines = np.linspace(-np.max(contour_data),-0.1,500)"
   ]
  },
  {
   "cell_type": "code",
   "execution_count": null,
   "id": "61f9eeb8-d6dc-436c-af83-d9df8d03d343",
   "metadata": {},
   "outputs": [],
   "source": [
    "contourf_lines = np.geomspace(-np.max(contour_data), -0.2,20)\n",
    "np.concatenate(contourf_lines, -1)"
   ]
  },
  {
   "cell_type": "code",
   "execution_count": null,
   "id": "bcab118c-91a6-48d4-98a6-3e2de470c146",
   "metadata": {},
   "outputs": [],
   "source": [
    "fig, ax = plt.subplots(figsize=(22,12))\n",
    "plt.contourf(-contour_data,levels = contourf_lines,cmap=\"inferno\",vmin=-10,vmax=-0.1)# ,linewidths = 0.2,vmax=20,vmin=2)hatches =[':'],\n",
    "ax.autoscale_view()\n",
    "ax.set_ylim(ax.get_ylim()[::-1])\n",
    "plt.colorbar()\n",
    "plt.show()"
   ]
  },
  {
   "cell_type": "code",
   "execution_count": null,
   "id": "9a3a47f4-1ab3-4aab-9a6a-a142c7ee38ef",
   "metadata": {},
   "outputs": [],
   "source": [
    "pre = test_skeleton.to_precomputed()"
   ]
  },
  {
   "cell_type": "code",
   "execution_count": null,
   "id": "b21cc21a-626e-4bc7-adbc-6ff071c822e6",
   "metadata": {},
   "outputs": [],
   "source": [
    "cv.Skeleton.from_precomputed(pre)"
   ]
  },
  {
   "cell_type": "code",
   "execution_count": null,
   "id": "c95bb273-d2f8-4f91-9fb2-66fba3a2ca93",
   "metadata": {},
   "outputs": [],
   "source": [
    "import pickle\n",
    "with open('skel.pkl', 'wb') as file: \n",
    "      \n",
    "    # A new file will be created \n",
    "    pickle.dump(test_skeleton, file) "
   ]
  },
  {
   "cell_type": "code",
   "execution_count": null,
   "id": "15c2b352-6203-48c4-ae6c-f0107de8d2ba",
   "metadata": {},
   "outputs": [],
   "source": [
    "with open('skel.pkl', 'rb') as file: \n",
    "      \n",
    "    # Call load method to deserialze \n",
    "    myvar = pickle.load(file) "
   ]
  },
  {
   "cell_type": "code",
   "execution_count": null,
   "id": "1efea5ef-160e-4ce0-a66e-6bc404324183",
   "metadata": {},
   "outputs": [],
   "source": [
    "test_skeleton.vertices"
   ]
  },
  {
   "cell_type": "code",
   "execution_count": null,
   "id": "6a2edb55-045e-49d1-a26f-499850f1f803",
   "metadata": {},
   "outputs": [],
   "source": [
    "np.min(skeleton.vertices,axis=0)"
   ]
  },
  {
   "cell_type": "code",
   "execution_count": null,
   "id": "f9f21188-310d-40cd-bb92-b9bbf792d745",
   "metadata": {},
   "outputs": [],
   "source": [
    "contour_lines = np.geomspace(0.2,np.max(contour_data),20)\n",
    "\n",
    "fig, ax = plt.subplots()\n",
    "plt.contour(contour_data,levels = contour_lines,colors='k',vmin=-5,vmax=-0.1,linewidths = 0.1,alpha=0.5)#,vmax=20,vmin=2)hatches =[':'],\n",
    "ax.autoscale_view()\n",
    "ax.set_ylim(ax.get_ylim()[::-1])\n",
    "plt.show()"
   ]
  },
  {
   "cell_type": "code",
   "execution_count": null,
   "id": "d3aab855-9948-4f56-9e8e-0ee4f8f99362",
   "metadata": {},
   "outputs": [],
   "source": [
    "contour_lines = np.geomspace(0.2,np.max(contour_data),20)\n",
    "#unscaled_qc_2_list = skel.scale_path_coordinates(unscaled_qc_2_list)\n",
    "\n",
    "fig, ax = vis.plot_delay_skeleton(skel.unscale_path_coordinates(test_skeleton.paths()), params, skel_params,figsize=6, plot_ais=True, plot_ais_connection=False, linewidth=2)\n",
    "plt.contour(contour_data,levels = contour_lines,colors='k',vmin=-5,vmax=-0.2,linewidths = 0.1,alpha=0.7,zorder=0)#,vmax=20,vmin=2)hatches =[':'],\n",
    "fig.set_figwidth(12)\n",
    "ax.autoscale_view()\n",
    "#ax.set_ylim(ax.get_ylim()[::-1])\n",
    "ax.set_ylim([0,120])\n",
    "plt.show()"
   ]
  },
  {
   "cell_type": "code",
   "execution_count": null,
   "id": "236fb32b-d4e7-43e5-b5e8-a7304bd96a4f",
   "metadata": {},
   "outputs": [],
   "source": []
  }
 ],
 "metadata": {
  "language_info": {
   "name": "python"
  }
 },
 "nbformat": 4,
 "nbformat_minor": 5
}
