{
 "cells": [
  {
   "cell_type": "code",
   "execution_count": null,
   "id": "22736f33-9ccb-4b6d-882e-164b00c84ea2",
   "metadata": {},
   "outputs": [],
   "source": [
    "%load_ext autoreload\n",
    "%autoreload 2"
   ]
  },
  {
   "cell_type": "code",
   "execution_count": null,
   "id": "1463e8fb-b52e-4526-acb3-b4ba27b2613c",
   "metadata": {},
   "outputs": [],
   "source": [
    "import os, time, shutil, sys\n",
    "from pathlib import Path\n",
    "from glob import glob\n",
    "from pprint import pprint\n",
    "import numpy as np\n",
    "import spikeinterface.full as si\n",
    "import matplotlib.pyplot as plt\n",
    "\n",
    "sys.path.append(\"/home/phornauer/Git/axon_tracking/\")\n",
    "from axon_tracking import spike_sorting as ss"
   ]
  },
  {
   "cell_type": "code",
   "execution_count": null,
   "id": "fb490264-a63e-498b-8848-d96973c80393",
   "metadata": {},
   "outputs": [],
   "source": [
    "sorter = 'kilosort2_5'\n",
    "si.Kilosort2_5Sorter.set_kilosort2_5_path('/home/phornauer/Git/Kilosort_2020b') #Change\n",
    "sorter_params = si.get_default_sorter_params(si.Kilosort2_5Sorter)\n",
    "sorter_params['n_jobs'] = -1\n",
    "sorter_params['detect_threshold'] = 7\n",
    "sorter_params['minFR'] = 0.01\n",
    "sorter_params['minfr_goodchannels'] = 0.01\n",
    "sorter_params['keep_good_only'] = False\n",
    "sorter_params['do_correction'] = False\n",
    "#pprint(sorter_params)"
   ]
  },
  {
   "cell_type": "code",
   "execution_count": null,
   "id": "70bb8bd0-f30e-4f7b-8ab4-aebe736c5643",
   "metadata": {},
   "outputs": [],
   "source": [
    "rec_path = '/net/bs-filesvr02/export/group/hierlemann/recordings/Maxtwo/phornauer/231207/Chemogenetics_2_Row_2/T002443/AxonTracking/000014/data.raw.h5'\n",
    "stream_id = 'well000'"
   ]
  },
  {
   "cell_type": "code",
   "execution_count": null,
   "id": "0d192df9-b2fc-4c9e-814c-3100ab2efba1",
   "metadata": {},
   "outputs": [],
   "source": [
    "parent_path = '/net/bs-filesvr02/export/group/hierlemann/recordings/Maxtwo/manuelsc/'\n",
    "recording_date = '231207'\n",
    "project_name = 'D*_*1'\n",
    "chip_id = '*'\n",
    "\n",
    "assay_name = 'Network'\n",
    "assay_id = '0*'\n",
    "file_name = 'data.raw.h5'\n",
    "path_parts = [parent_path,  project_name, recording_date, chip_id, assay_name, assay_id, file_name]\n",
    "path_list, stream_ids = ss.generate_rec_list(path_parts)\n",
    "pprint(path_list)"
   ]
  },
  {
   "cell_type": "code",
   "execution_count": null,
   "id": "a930c729-a756-4313-9eba-3590d743c337",
   "metadata": {},
   "outputs": [],
   "source": [
    "path_list = [path_list[x] for x in [0]]"
   ]
  },
  {
   "cell_type": "code",
   "execution_count": null,
   "id": "d7612943-8717-4e09-b255-c19de1be4041",
   "metadata": {},
   "outputs": [],
   "source": [
    "axon_rec, ax_el = ss.concatenate_recording_slices(rec_path, stream_id)"
   ]
  },
  {
   "cell_type": "code",
   "execution_count": null,
   "id": "89c70c55-58b4-4e87-998a-39b11f8218c2",
   "metadata": {},
   "outputs": [],
   "source": [
    "network_rec = ss.concatenate_recording_list(path_list, stream_id)"
   ]
  },
  {
   "cell_type": "code",
   "execution_count": null,
   "id": "5b3cab06-0b24-49f5-9bf4-af67f0fefb39",
   "metadata": {},
   "outputs": [],
   "source": [
    "nw_rec_el = network_rec.get_property(\"contact_vector\")[\"electrode\"]\n",
    "ax_rec_el = axon_rec.get_property(\"contact_vector\")[\"electrode\"]\n",
    "\n",
    "common_el = list(set(ax_rec_el).intersection(nw_rec_el))\n",
    "\n",
    "chan_idx = [np.where(ax_rec_el == el)[0][0] for el in common_el]\n",
    "ax_channels = axon_rec.get_channel_ids()[chan_idx]\n",
    "ax_rec_slice = axon_rec.channel_slice(ax_channels, renamed_channel_ids=list(range(len(chan_idx))))\n",
    "\n",
    "rec_list = [ax_rec_slice.astype('float16')]\n",
    "\n",
    "chan_idx = [np.where(nw_rec_el == el)[0][0] for el in common_el]\n",
    "nw_channels = network_rec.get_channel_ids()[chan_idx]\n",
    "nw_rec_slice = network_rec.channel_slice(nw_channels, renamed_channel_ids=list(range(len(chan_idx))))\n",
    "\n",
    "rec_list.append(nw_rec_slice.astype('float16'))"
   ]
  },
  {
   "cell_type": "code",
   "execution_count": null,
   "id": "9a939254-2337-457e-afc4-87af81a3e151",
   "metadata": {},
   "outputs": [],
   "source": [
    "nw_double_slice = network_rec.frame_slice(start_frame=1800*10000,end_frame=nw_rec_slice.get_num_samples())"
   ]
  },
  {
   "cell_type": "code",
   "execution_count": null,
   "id": "f5334441-60a8-4dcf-a97f-dc3dce457ce0",
   "metadata": {},
   "outputs": [],
   "source": [
    "test_nw = network_rec.channel_slice(nw_channels, renamed_channel_ids=list(range(len(chan_idx))))"
   ]
  },
  {
   "cell_type": "code",
   "execution_count": null,
   "id": "0e65fc24-2770-45ef-9e7e-b7ba610b921a",
   "metadata": {},
   "outputs": [],
   "source": [
    "test_nw"
   ]
  },
  {
   "cell_type": "code",
   "execution_count": null,
   "id": "4f0499d1-c5b8-4ff5-99e4-ee83aa810fe7",
   "metadata": {},
   "outputs": [],
   "source": [
    "test_nw.save_to_folder(folder='/net/bs-filesvr02/export/group/hierlemann/intermediate_data/Maxtwo/phornauer/Chemogenetics_2/Week_2/concatenated/test',n_jobs=-1)"
   ]
  },
  {
   "cell_type": "code",
   "execution_count": null,
   "id": "c339659d-6c3c-402d-9b6c-c645336485a9",
   "metadata": {},
   "outputs": [],
   "source": [
    "concatenated_recording = si.concatenate_recordings(rec_list)\n",
    "concatenated_recording"
   ]
  },
  {
   "cell_type": "code",
   "execution_count": null,
   "id": "f8c445bc-135b-4ad3-a7f5-e1ccbf6b811e",
   "metadata": {},
   "outputs": [],
   "source": [
    "save_root = '/net/bs-filesvr02/export/group/hierlemann/intermediate_data/Maxtwo/phornauer/Chemogenetics_2/Week_2/concatenated/'\n",
    "ss.clean_sorting(rec=concatenated_recording, save_root=save_root, stream_id=stream_id, sorter=sorter, sorter_params=sorter_params)"
   ]
  },
  {
   "cell_type": "code",
   "execution_count": null,
   "id": "13299211-f580-4f92-87d1-c86bc4768d61",
   "metadata": {},
   "outputs": [],
   "source": [
    "#'/net/bs-filesvr02/export/group/hierlemann/recordings/Mea1k/phornauer/Chemogenetics/231205/2977/Cell_B_positive.raw.h5'\n",
    "rec_path, stream_id, rec_name = path_list[0],'well000','rec0000'\n",
    "rec = si.MaxwellRecordingExtractor(rec_path, stream_id=stream_id, rec_name=rec_name)"
   ]
  },
  {
   "cell_type": "code",
   "execution_count": null,
   "id": "a4ebf3d6-81d2-41a0-8cc5-8b108556d1f1",
   "metadata": {},
   "outputs": [],
   "source": [
    "rec"
   ]
  },
  {
   "cell_type": "code",
   "execution_count": null,
   "id": "fd2c7a4e-81ee-42ad-84ff-701dd9b3972d",
   "metadata": {},
   "outputs": [],
   "source": [
    "sel_channels = np.random.choice(rec.get_channel_ids(),size=100,replace=False)"
   ]
  },
  {
   "cell_type": "code",
   "execution_count": null,
   "id": "d448c1e7-0c0b-4eac-9552-9932302c3cc8",
   "metadata": {},
   "outputs": [],
   "source": [
    "slice_rec = rec.channel_slice(sel_channels, renamed_channel_ids=list(range(len(sel_channels))))\n",
    "slice_rec"
   ]
  },
  {
   "cell_type": "code",
   "execution_count": null,
   "id": "56367600-4782-40ec-ae2d-431a407d2b8b",
   "metadata": {},
   "outputs": [],
   "source": [
    "save_path = '/net/bs-filesvr02/export/group/hierlemann/intermediate_data/Maxtwo/phornauer/Chemogenetics_2/Week_2/concatenated/test3'\n",
    "slice_rec.save_to_folder(folder=save_path, n_jobs=-1)"
   ]
  }
 ],
 "metadata": {
  "language_info": {
   "name": "python"
  }
 },
 "nbformat": 4,
 "nbformat_minor": 5
}
