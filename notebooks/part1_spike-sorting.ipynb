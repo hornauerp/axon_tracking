{
 "cells": [
  {
   "cell_type": "code",
   "execution_count": null,
   "id": "637b514e-974b-4fa6-a14e-fc07342e4e44",
   "metadata": {},
   "outputs": [],
   "source": [
    "import os, time, shutil, sys\n",
    "from pathlib import Path\n",
    "from glob import glob\n",
    "from pprint import pprint\n",
    "import numpy as np\n",
    "import spikeinterface.full as si\n",
    "import matplotlib.pyplot as plt"
   ]
  },
  {
   "cell_type": "code",
   "execution_count": null,
   "id": "f316bdd4-c308-44cf-ae55-dbbadc9be37d",
   "metadata": {},
   "outputs": [],
   "source": [
    "sorter = 'kilosort2_5'\n",
    "si.Kilosort2_5Sorter.set_kilosort2_5_path('/home/phornauer/Git/Kilosort_2020b') #Change\n",
    "sorter_params = si.get_default_sorter_params(si.Kilosort2_5Sorter)\n",
    "sorter_params['n_jobs'] = -1\n",
    "sorter_params['detect_threshold'] = 5.5\n",
    "sorter_params['minFR'] = 0.01\n",
    "sorter_params['minfr_goodchannels'] = 0.01\n",
    "sorter_params['keep_good_only'] = False\n",
    "sorter_params['do_correction'] = False\n",
    "#pprint(sorter_params)"
   ]
  },
  {
   "cell_type": "code",
   "execution_count": null,
   "id": "c337c2cf-29c7-4c33-be50-2dca850e4d7b",
   "metadata": {},
   "outputs": [],
   "source": [
    "root_path = \"/net/bs-filesvr02/export/group/hierlemann/recordings/Mea1k/phornauer/SCR_lts/phornauer/\" # Fixed path root that all recordings have in common\n",
    "path_pattern = [\"SCR_rebuttal_week_*\", \"2*\", \"M0*\",\"AxonTracking\",\"0*\"] # Variable part of the path, where we collect all possible combinations using wildcards (*). It is still recommended to be as specific as possible to avoid ambiguities.\n",
    "file_name = \"data.raw.h5\" # File name of the recording\n",
    "\n",
    "full_path = os.path.join(root_path, *path_pattern, file_name)\n",
    "path_list = glob(full_path)"
   ]
  },
  {
   "cell_type": "code",
   "execution_count": null,
   "id": "d505bcc0-01ad-44ad-8aa6-2912b6ba9ca6",
   "metadata": {},
   "outputs": [],
   "source": [
    "path_parts = path_list[0].split('/')\n",
    "path_parts[9:11] = []\n",
    "\n",
    "path_parts[0] = '/'\n",
    "path_parts[6] = 'intermediate_data'\n",
    "path_parts[7] = 'MaxTwo'\n",
    "path_parts[8] = 'phornauer'\n",
    "save_root = os.path.join(*path_parts[0:12])\n",
    "save_root"
   ]
  },
  {
   "cell_type": "code",
   "execution_count": null,
   "id": "ec1ad921-701e-4f8e-adea-7b8b6ae359fa",
   "metadata": {},
   "outputs": [],
   "source": [
    "save_root = os.path.join('/', *path_parts[1:6], 'intermediate_data', 'MaxTwo', 'phornauer')\n",
    "save_root"
   ]
  },
  {
   "cell_type": "code",
   "execution_count": null,
   "id": "4a56223d-b95c-4f92-8fcf-bdf823c8286c",
   "metadata": {},
   "outputs": [],
   "source": [
    "stream_name = \"well005\""
   ]
  }
 ],
 "metadata": {
  "kernelspec": {
   "display_name": "Python 3 (ipykernel)",
   "language": "python",
   "name": "python3"
  },
  "language_info": {
   "codemirror_mode": {
    "name": "ipython",
    "version": 3
   },
   "file_extension": ".py",
   "mimetype": "text/x-python",
   "name": "python",
   "nbconvert_exporter": "python",
   "pygments_lexer": "ipython3",
   "version": "3.9.15"
  }
 },
 "nbformat": 4,
 "nbformat_minor": 5
}
