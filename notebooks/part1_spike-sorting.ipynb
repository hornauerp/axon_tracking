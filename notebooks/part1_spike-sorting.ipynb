{
 "cells": [
  {
   "cell_type": "code",
   "execution_count": null,
   "id": "f5e26db2-cde8-4595-ac7d-4334c3037aee",
   "metadata": {},
   "outputs": [],
   "source": [
    "%load_ext autoreload\n",
    "%autoreload 2"
   ]
  },
  {
   "cell_type": "code",
   "execution_count": null,
   "id": "637b514e-974b-4fa6-a14e-fc07342e4e44",
   "metadata": {},
   "outputs": [],
   "source": [
    "import os, time, shutil, sys\n",
    "#from pathlib import Path\n",
    "from glob import glob\n",
    "from pprint import pprint\n",
    "import numpy as np\n",
    "import spikeinterface.full as si\n",
    "\n",
    "sys.path.append(\"/home/phornauer/Git/axon_tracking/\")\n",
    "from axon_tracking import spike_sorting as ss"
   ]
  },
  {
   "cell_type": "markdown",
   "id": "c50e9001-f7ed-43a2-b5c5-128b7dd63abf",
   "metadata": {},
   "source": [
    "Specify sorter and sorter parameters"
   ]
  },
  {
   "cell_type": "code",
   "execution_count": null,
   "id": "f316bdd4-c308-44cf-ae55-dbbadc9be37d",
   "metadata": {},
   "outputs": [],
   "source": [
    "sorter = 'kilosort2_5'\n",
    "si.Kilosort2_5Sorter.set_kilosort2_5_path('/home/phornauer/Git/Kilosort_2020b') #Change\n",
    "sorter_params = si.get_default_sorter_params(si.Kilosort2_5Sorter)\n",
    "sorter_params['n_jobs'] = -1\n",
    "sorter_params['detect_threshold'] = 5.5\n",
    "sorter_params['minFR'] = 0.01\n",
    "sorter_params['minfr_goodchannels'] = 0.01\n",
    "sorter_params['keep_good_only'] = False\n",
    "sorter_params['do_correction'] = False\n",
    "#pprint(sorter_params)"
   ]
  },
  {
   "cell_type": "markdown",
   "id": "bce848bd-9adf-40a8-9e07-b2cfd89f3bae",
   "metadata": {},
   "source": [
    "If the recording paths follow a pattern, you can use the approach described here to generate it automatically for you. Otherwise you can also load/write a list of recordings you would like to analyze and pass that to the function `sort_recording_list()`."
   ]
  },
  {
   "cell_type": "code",
   "execution_count": null,
   "id": "00dbc19e-13ca-48c9-adac-26bfde9a26a9",
   "metadata": {},
   "outputs": [],
   "source": [
    "root_path = \"/net/bs-filesvr02/export/group/hierlemann/recordings/Mea1k/phornauer/SCR_lts/phornauer/\" # Fixed path root that all recordings have in common\n",
    "path_pattern = [\"SCR_rebuttal_week_*\", \"2*\", \"M0*\",\"AxonTracking\",\"0*\"] # Variable part of the path, where we collect all possible combinations using wildcards (*). It is still recommended to be as specific as possible to avoid ambiguities.\n",
    "file_name = \"data.raw.h5\" # File name of the recording\n",
    "\n",
    "full_path = os.path.join(root_path, *path_pattern, file_name)\n",
    "path_list = glob(full_path)\n",
    "print(f'Found {len(path_list)} recording paths matching the description:\\n{full_path}\\n')"
   ]
  },
  {
   "cell_type": "markdown",
   "id": "802c8e9f-2cd4-44ac-aca0-f9c02ede6168",
   "metadata": {},
   "source": [
    "If you would like to store your sorting results somewhere different from your recordings, you can specify the way to alter the recording path to arrive at the save path here. `pos` refers to the position in the path that you want to alter, `vals` refers to the string you want to replace it with. `''` just skips one element. Check the cell output to see if the alterations produce the expected results. \n",
    "\n",
    "If you provide an empty list for both (pos and vals), the sorting will be stored in a subfolder from the recording folder."
   ]
  },
  {
   "cell_type": "code",
   "execution_count": null,
   "id": "ffb9a3d6-e742-42bc-a459-9f72c40891d5",
   "metadata": {},
   "outputs": [],
   "source": [
    "save_path_changes = {'pos': [0, 6, 7, 8, 9, 10, 15, 16], 'vals': ['/', 'intermediate_data', 'Mea1k', 'phornauer', '','','','','']}\n",
    "\n",
    "save_path = ss.convert_rec_path_to_save_path(full_path, save_path_changes)\n",
    "    \n",
    "print(f'The save path corresponds to the pattern:\\n {save_path}\\n')"
   ]
  },
  {
   "cell_type": "code",
   "execution_count": null,
   "id": "d9e09773-5416-4346-87b6-fdba85bbc3db",
   "metadata": {},
   "outputs": [],
   "source": [
    "sorting_list = ss.sort_recording_list(path_list[0:1], save_path_changes, sorter, sorter_params)"
   ]
  },
  {
   "cell_type": "code",
   "execution_count": null,
   "id": "b311870d-48bf-44fa-a576-00d2b7ac3db5",
   "metadata": {},
   "outputs": [],
   "source": [
    "path_list"
   ]
  }
 ],
 "metadata": {
  "language_info": {
   "name": "python"
  }
 },
 "nbformat": 4,
 "nbformat_minor": 5
}
