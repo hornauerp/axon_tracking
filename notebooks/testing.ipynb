{
 "cells": [
  {
   "cell_type": "code",
   "execution_count": null,
   "id": "f3920b65-4a8e-46c2-9fcd-293cbc27ff94",
   "metadata": {},
   "outputs": [],
   "source": [
    "%load_ext autoreload\n",
    "%autoreload 2\n",
    "%matplotlib inline"
   ]
  },
  {
   "cell_type": "code",
   "execution_count": null,
   "id": "0eccc01e-0c53-4ca7-9c2d-288fc021ebf7",
   "metadata": {},
   "outputs": [],
   "source": [
    "import os,sys, kimimaro\n",
    "import numpy as np\n",
    "from skimage.morphology import disk, ball, square\n",
    "import scipy.ndimage as nd\n",
    "import scipy.signal as sig\n",
    "import matplotlib.pyplot as plt\n",
    "import matplotlib.animation as anim\n",
    "import cloudvolume as cv\n",
    "from IPython.display import HTML\n",
    "from matplotlib.collections import LineCollection\n",
    "\n",
    "sys.path.append(\"/home/phornauer/Git/axon_tracking/\")\n",
    "import axon_tracking.skeletonization as skel\n",
    "import axon_tracking.template_extraction as te\n",
    "import axon_tracking.visualization as vis"
   ]
  },
  {
   "cell_type": "code",
   "execution_count": null,
   "id": "51457915-991f-4db8-8036-627b96f16678",
   "metadata": {},
   "outputs": [],
   "source": [
    "params = dict()\n",
    "params['noise_threshold'] = -1\n",
    "params['abs_threshold'] = -0.2\n",
    "params['upsample'] = [0.5,0.5,0.5]\n",
    "params['sampling_rate'] = 20000/params['upsample'][2] # [Hz]\n",
    "params['ms_cutout'] = [1.5, 5.0]\n",
    "params['filter_footprint'] = ball(1)#np.ones((2,2,3))\n",
    "params['max_velocity'] = 5 # [m/s]\n",
    "params['max_noise_level'] = 0.25\n",
    "params['el_spacing'] = 17.5 * params['upsample'][2]"
   ]
  },
  {
   "cell_type": "code",
   "execution_count": null,
   "id": "54514d65-33e2-4858-930a-8aff455e39e9",
   "metadata": {},
   "outputs": [],
   "source": [
    "skel_params = dict()\n",
    "skel_params['scale'] = 3#1\n",
    "skel_params['const'] = 2#3\n",
    "skel_params['dust_threshold'] = 5\n",
    "skel_params['anisotropy'] = (10.0, 10.0, 10.0)\n",
    "skel_params['tick_threshold'] = 10\n",
    "skel_params['n_jobs'] = 16"
   ]
  },
  {
   "cell_type": "code",
   "execution_count": null,
   "id": "a693035f-89a6-4378-98f4-7b912880a4bc",
   "metadata": {},
   "outputs": [],
   "source": [
    "root_path = '/net/bs-filesvr02/export/group/hierlemann/intermediate_data/Maxtwo/phornauer/Chemogenetics/Large_dose_range/concatenated/'\n",
    "#root_path = '/net/bs-filesvr02/export/group/hierlemann/intermediate_data/Maxtwo/phornauer/Chemogenetics_2/Week_3/concatenated/'\n",
    "stream_id = 'well014'\n",
    "template_id = 274\n",
    "template, template_save_file, noise = skel.load_template_file(root_path, stream_id, template_id)\n",
    "temp_diff = np.diff(template)\n",
    "capped_template, target_coor= skel.localize_neurons(temp_diff, ms_cutout=params['ms_cutout'])\n",
    "\n",
    "tmp_filt = nd.gaussian_filter(capped_template,sigma=1)\n",
    "\n",
    "interp_temp = skel.interpolate_template(tmp_filt,spacing=params['upsample'],overwrite=True)\n",
    "noise = skel.interpolate_template(noise,spacing=params['upsample'][:2] +[1])\n",
    "th_template = skel.threshold_template(interp_temp, noise, target_coor, params)\n",
    "\n",
    "vis.plot_template_and_noise(tmp_filt,noise,th_template)"
   ]
  },
  {
   "cell_type": "code",
   "execution_count": null,
   "id": "64119d4c-608e-47c7-8846-2826ba157ee1",
   "metadata": {},
   "outputs": [],
   "source": [
    "t_cap = [0, th_template.shape[2]] #in samples\n",
    "skels = skel.skeletonize(th_template[:,:,t_cap[0]:t_cap[1]].astype('bool'), **skel_params)\n",
    "\n",
    "skeleton = kimimaro.join_close_components(skels[1], radius=10)\n",
    "\n",
    "skeleton = kimimaro.postprocess(skeleton, tick_threshold=5, dust_threshold=10)\n",
    "\n",
    "skeleton = kimimaro.join_close_components(skeleton, radius=200)\n",
    "\n",
    "#skeleton = kimimaro.postprocess(skeleton, tick_threshold=5, dust_threshold=100)\n",
    "\n",
    "skeleton = skeleton.consolidate()\n",
    "skel_paths = cv.Skeleton.paths(skeleton)"
   ]
  },
  {
   "cell_type": "code",
   "execution_count": null,
   "id": "84d743fb-4d12-4fd6-8397-b6c80685f7dc",
   "metadata": {},
   "outputs": [],
   "source": [
    "skel_paths[1].shape"
   ]
  },
  {
   "cell_type": "code",
   "execution_count": null,
   "id": "0520b2c5-69e2-4bf2-8995-8fa3451fd15d",
   "metadata": {},
   "outputs": [],
   "source": [
    "vis.plot_delay_skeleton(skel_paths, params, skel_params,figsize=4, plot_ais=False, plot_ais_connection=False)"
   ]
  },
  {
   "cell_type": "code",
   "execution_count": null,
   "id": "7605fa81-bc29-455e-920f-c8d149de5c49",
   "metadata": {},
   "outputs": [],
   "source": [
    "ani = vis.generate_propagation_gif(interp_temp[:,:,6:], params, cumulative=False, vertices=adj_voxels, downsample=2, clim=[-2, -0.15], cmap=\"Greys\", marker_size=0.1)"
   ]
  },
  {
   "cell_type": "code",
   "execution_count": null,
   "id": "deb1cb57-2adc-4318-92e0-9d57756827ad",
   "metadata": {},
   "outputs": [],
   "source": [
    "HTML(ani.to_jshtml())"
   ]
  },
  {
   "cell_type": "code",
   "execution_count": null,
   "id": "554e20c4-888b-4ede-bfc1-aef474560b56",
   "metadata": {},
   "outputs": [],
   "source": [
    "ani.save(\"/net/bs-filesvr02/export/group/hierlemann/intermediate_data/Maxtwo/phornauer/Chemogenetics/Large_dose_range/concatenated/well014/274_skeleton.gif\",\n",
    "         fps=20,dpi=300)"
   ]
  },
  {
   "cell_type": "code",
   "execution_count": null,
   "id": "a4514738-95fb-490d-b607-621a3226c872",
   "metadata": {},
   "outputs": [],
   "source": [
    "def generate_voxels_from_points(points, resolution=100):\n",
    "    \"\"\"\n",
    "    Generates voxels (integer coordinates) through which the edges, formed by consecutive points, pass.\n",
    "    \n",
    "    Parameters:\n",
    "    - points: An array of shape (N, 3) where N is the number of points, with each point having 3D coordinates.\n",
    "    - resolution: The number of interpolation steps along each edge. Higher resolution\n",
    "                  increases the chance of capturing all voxels an edge passes through.\n",
    "    \n",
    "    Returns:\n",
    "    - voxels: A numpy array of unique voxels (integer coordinates) through which the edges pass.\n",
    "    \"\"\"\n",
    "    voxel_set = set()\n",
    "    # Iterate over pairs of consecutive points to form edges\n",
    "    for i in range(len(points) - 1):\n",
    "        start, end = points[i], points[i + 1]\n",
    "        # Ensure start and end are numpy arrays for element-wise operations\n",
    "        start, end = np.array(start), np.array(end)\n",
    "        # Linearly interpolate between start and end points\n",
    "        for t in np.linspace(0, 1, resolution):\n",
    "            voxel = np.round(start + t * (end - start)).astype(int)  # Round to nearest int and ensure type int\n",
    "            voxel_set.add(tuple(voxel))\n",
    "    # Convert the set of tuples back to a numpy array\n",
    "    voxels = np.array(list(voxel_set))\n",
    "    return voxels"
   ]
  },
  {
   "cell_type": "code",
   "execution_count": null,
   "id": "4d335333-34a2-45d9-89e1-702b5bf8eac2",
   "metadata": {},
   "outputs": [],
   "source": [
    "all_voxels = np.empty((0,3))\n",
    "for path in skel_paths:\n",
    "    voxels = generate_voxels_from_points(path,resolution=10)\n",
    "    all_voxels = np.concatenate((all_voxels, voxels),axis=0)"
   ]
  },
  {
   "cell_type": "code",
   "execution_count": null,
   "id": "3c6b9e19-2368-45f9-b360-13844dce520d",
   "metadata": {},
   "outputs": [],
   "source": [
    "adj_voxels = all_voxels\n",
    "adj_voxels = adj_voxels - np.array([0,0,6])"
   ]
  },
  {
   "cell_type": "code",
   "execution_count": null,
   "id": "f7b73214-614a-4a3c-a498-e572550f4546",
   "metadata": {},
   "outputs": [],
   "source": [
    "all_voxels[1,:]"
   ]
  },
  {
   "cell_type": "code",
   "execution_count": null,
   "id": "d2c1f03b-1500-47b7-9cd4-fdf7cd4dd4b2",
   "metadata": {},
   "outputs": [],
   "source": [
    "adj_voxels[1,:]"
   ]
  }
 ],
 "metadata": {
  "language_info": {
   "name": "python"
  }
 },
 "nbformat": 4,
 "nbformat_minor": 5
}
