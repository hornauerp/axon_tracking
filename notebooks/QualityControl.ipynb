{
 "cells": [
  {
   "cell_type": "code",
   "execution_count": null,
   "id": "07e60c3e-e881-404f-9a56-3aa213f4a6a6",
   "metadata": {},
   "outputs": [],
   "source": [
    "%load_ext autoreload\n",
    "%autoreload 2"
   ]
  },
  {
   "cell_type": "code",
   "execution_count": null,
   "id": "b5fcb058-7aa4-4458-90e0-7056c0bc11fb",
   "metadata": {},
   "outputs": [],
   "source": [
    "import os, time, shutil, sys\n",
    "#from pathlib import Path\n",
    "from glob import glob\n",
    "from pprint import pprint\n",
    "import numpy as np\n",
    "import spikeinterface.full as si\n",
    "import matplotlib.pyplot as plt\n",
    "\n",
    "sys.path.append(\"/home/phornauer/Git/axon_tracking/\")\n",
    "from axon_tracking import spike_sorting as ss"
   ]
  },
  {
   "cell_type": "code",
   "execution_count": null,
   "id": "079693a0-115e-459f-9fd6-42996b8a7673",
   "metadata": {},
   "outputs": [],
   "source": [
    "sorting_path = '/net/bs-filesvr02/export/group/hierlemann/intermediate_data/Maxtwo/phornauer/Chemogenetics_2/Week_2/T002443/AxonTracking/well000/sorter_output'\n",
    "wf_path = os.path.join(sorting_path, 'waveforms')"
   ]
  },
  {
   "cell_type": "code",
   "execution_count": null,
   "id": "df46f3f0-9f3a-4d34-832d-861bd24e620f",
   "metadata": {},
   "outputs": [],
   "source": [
    "sorting = si.KiloSortSortingExtractor(sorting_path, keep_good_only=True)"
   ]
  },
  {
   "cell_type": "code",
   "execution_count": null,
   "id": "0fefc3e7-dea4-48aa-9f06-4b466bbbdefc",
   "metadata": {},
   "outputs": [],
   "source": [
    "recording_path = '/net/bs-filesvr02/export/group/hierlemann/recordings/Maxtwo/phornauer/231207/Chemogenetics_2_Row_2/T002443/AxonTracking/000014/data.raw.h5'\n",
    "rec = ss.concatenate_recording_slices(recording_path,stream_id='well000')"
   ]
  },
  {
   "cell_type": "code",
   "execution_count": null,
   "id": "c381d46b-9134-461d-8551-6676fdad2d0c",
   "metadata": {},
   "outputs": [],
   "source": [
    "we = si.extract_waveforms(wf_path, with_recording=False, sorting=sorting)"
   ]
  },
  {
   "cell_type": "code",
   "execution_count": null,
   "id": "266b08cf-0ad9-406f-99eb-aebcb65f52ef",
   "metadata": {},
   "outputs": [],
   "source": []
  }
 ],
 "metadata": {
  "language_info": {
   "name": "python"
  }
 },
 "nbformat": 4,
 "nbformat_minor": 5
}
